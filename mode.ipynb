{
 "cells": [
  {
   "cell_type": "code",
   "execution_count": 1,
   "id": "3cb59b55",
   "metadata": {},
   "outputs": [],
   "source": [
    "import pandas as pd"
   ]
  },
  {
   "cell_type": "code",
   "execution_count": 2,
   "id": "ba5ba776",
   "metadata": {},
   "outputs": [
    {
     "name": "stdout",
     "output_type": "stream",
     "text": [
      "(2244, 28)\n"
     ]
    }
   ],
   "source": [
    "matches = pd.read_csv('matches.csv', index_col=0)\n",
    "\n",
    "print(matches.shape)"
   ]
  },
  {
   "cell_type": "code",
   "execution_count": 4,
   "id": "508a9dda",
   "metadata": {},
   "outputs": [
    {
     "data": {
      "text/plain": [
       "Team\n",
       "Chelsea                     113\n",
       "Aston Villa                 113\n",
       "Tottenham Hotspur           113\n",
       "Manchester United           113\n",
       "Newcastle United            112\n",
       "Manchester City             112\n",
       "Arsenal                     112\n",
       "Liverpool                   112\n",
       "Brentford                   112\n",
       "Nottingham Forest           112\n",
       "Fulham                      112\n",
       "Brighton and Hove Albion    112\n",
       "Crystal Palace              112\n",
       "Everton                     112\n",
       "Wolverhampton Wanderers     112\n",
       "Bournemouth                 112\n",
       "West Ham United             112\n",
       "Leicester City               74\n",
       "Southampton                  74\n",
       "Luton Town                   38\n",
       "Sheffield United             38\n",
       "Burnley                      38\n",
       "Leeds United                 38\n",
       "Ipswich Town                 36\n",
       "Name: count, dtype: int64"
      ]
     },
     "execution_count": 4,
     "metadata": {},
     "output_type": "execute_result"
    }
   ],
   "source": [
    "matches['Team'].value_counts()"
   ]
  },
  {
   "cell_type": "code",
   "execution_count": 5,
   "id": "7d8406bf",
   "metadata": {},
   "outputs": [
    {
     "data": {
      "text/plain": [
       "Date              object\n",
       "Time              object\n",
       "Comp              object\n",
       "Round             object\n",
       "Day               object\n",
       "Venue             object\n",
       "Result            object\n",
       "GF                 int64\n",
       "GA                 int64\n",
       "Opponent          object\n",
       "xG               float64\n",
       "xGA              float64\n",
       "Poss               int64\n",
       "Attendance       float64\n",
       "Captain           object\n",
       "Formation         object\n",
       "Opp Formation     object\n",
       "Referee           object\n",
       "Match Report      object\n",
       "Notes            float64\n",
       "Sh                 int64\n",
       "SoT                int64\n",
       "Dist             float64\n",
       "FK                 int64\n",
       "PK                 int64\n",
       "PKatt              int64\n",
       "Season             int64\n",
       "Team              object\n",
       "dtype: object"
      ]
     },
     "execution_count": 5,
     "metadata": {},
     "output_type": "execute_result"
    }
   ],
   "source": [
    "matches.dtypes"
   ]
  }
 ],
 "metadata": {
  "kernelspec": {
   "display_name": "Python 3",
   "language": "python",
   "name": "python3"
  },
  "language_info": {
   "codemirror_mode": {
    "name": "ipython",
    "version": 3
   },
   "file_extension": ".py",
   "mimetype": "text/x-python",
   "name": "python",
   "nbconvert_exporter": "python",
   "pygments_lexer": "ipython3",
   "version": "3.10.12"
  }
 },
 "nbformat": 4,
 "nbformat_minor": 5
}
