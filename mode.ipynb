{
 "cells": [
  {
   "cell_type": "code",
   "execution_count": 14,
   "id": "3cb59b55",
   "metadata": {},
   "outputs": [],
   "source": [
    "import pandas as pd\n",
    "from sklearn.ensemble import RandomForestClassifier\n",
    "from sklearn.model_selection import GridSearchCV\n",
    "import numpy as np\n",
    "from sklearn.metrics import classification_report"
   ]
  },
  {
   "cell_type": "code",
   "execution_count": 2,
   "id": "ba5ba776",
   "metadata": {},
   "outputs": [
    {
     "name": "stdout",
     "output_type": "stream",
     "text": [
      "(2244, 28)\n"
     ]
    }
   ],
   "source": [
    "matches = pd.read_csv('matches.csv', index_col=0)\n",
    "\n",
    "print(matches.shape)"
   ]
  },
  {
   "cell_type": "code",
   "execution_count": 3,
   "id": "508a9dda",
   "metadata": {},
   "outputs": [
    {
     "data": {
      "text/plain": [
       "Team\n",
       "Chelsea                     113\n",
       "Aston Villa                 113\n",
       "Tottenham Hotspur           113\n",
       "Manchester United           113\n",
       "Newcastle United            112\n",
       "Manchester City             112\n",
       "Arsenal                     112\n",
       "Liverpool                   112\n",
       "Brentford                   112\n",
       "Nottingham Forest           112\n",
       "Fulham                      112\n",
       "Brighton and Hove Albion    112\n",
       "Crystal Palace              112\n",
       "Everton                     112\n",
       "Wolverhampton Wanderers     112\n",
       "Bournemouth                 112\n",
       "West Ham United             112\n",
       "Leicester City               74\n",
       "Southampton                  74\n",
       "Luton Town                   38\n",
       "Sheffield United             38\n",
       "Burnley                      38\n",
       "Leeds United                 38\n",
       "Ipswich Town                 36\n",
       "Name: count, dtype: int64"
      ]
     },
     "execution_count": 3,
     "metadata": {},
     "output_type": "execute_result"
    }
   ],
   "source": [
    "matches['Team'].value_counts()"
   ]
  },
  {
   "cell_type": "code",
   "execution_count": 4,
   "id": "7d8406bf",
   "metadata": {},
   "outputs": [
    {
     "data": {
      "text/plain": [
       "Date              object\n",
       "Time              object\n",
       "Comp              object\n",
       "Round             object\n",
       "Day               object\n",
       "Venue             object\n",
       "Result            object\n",
       "GF                 int64\n",
       "GA                 int64\n",
       "Opponent          object\n",
       "xG               float64\n",
       "xGA              float64\n",
       "Poss               int64\n",
       "Attendance       float64\n",
       "Captain           object\n",
       "Formation         object\n",
       "Opp Formation     object\n",
       "Referee           object\n",
       "Match Report      object\n",
       "Notes            float64\n",
       "Sh                 int64\n",
       "SoT                int64\n",
       "Dist             float64\n",
       "FK                 int64\n",
       "PK                 int64\n",
       "PKatt              int64\n",
       "Season             int64\n",
       "Team              object\n",
       "dtype: object"
      ]
     },
     "execution_count": 4,
     "metadata": {},
     "output_type": "execute_result"
    }
   ],
   "source": [
    "matches.dtypes"
   ]
  },
  {
   "cell_type": "code",
   "execution_count": 5,
   "id": "1457aacd",
   "metadata": {},
   "outputs": [],
   "source": [
    "matches['Date'] = pd.to_datetime(matches['Date'])\n",
    "matches['Venue_code'] = matches['Venue'].astype('category').cat.codes\n",
    "matches['Opp_code'] = matches['Opponent'].astype('category').cat.codes\n",
    "matches['Hour'] = matches['Time'].str.replace(\":.+\", \"\", regex=True).astype('int')\n",
    "matches['Day_code'] = matches['Date'].dt.dayofweek\n",
    "matches['Target'] = matches['Result'].astype('category').cat.codes"
   ]
  },
  {
   "cell_type": "code",
   "execution_count": 6,
   "id": "cc474f30",
   "metadata": {},
   "outputs": [],
   "source": [
    "train = matches[matches['Date'] < '2025-01-01']\n",
    "test = matches[matches['Date'] > '2025-01-01']\n",
    "predictors = ['Venue_code', 'Opp_code', 'Hour', 'Day_code']"
   ]
  },
  {
   "cell_type": "code",
   "execution_count": 7,
   "id": "6b95a7cf",
   "metadata": {},
   "outputs": [],
   "source": [
    "rf_model = RandomForestClassifier(random_state=42)\n",
    "param_grid = {\n",
    "    'n_estimators': np.arange(30,50,5), \n",
    "    'min_samples_split': np.arange(5,10)\n",
    "}\n",
    "\n",
    "clf = GridSearchCV(estimator=rf_model, param_grid=param_grid, scoring='accuracy', n_jobs=-1)\n",
    "clf.fit(train[predictors], train['Result'])\n",
    "refined_rf_model = clf.best_estimator_"
   ]
  },
  {
   "cell_type": "code",
   "execution_count": 8,
   "id": "1489a89a",
   "metadata": {},
   "outputs": [
    {
     "data": {
      "text/plain": [
       "{'min_samples_split': np.int64(8), 'n_estimators': np.int64(35)}"
      ]
     },
     "execution_count": 8,
     "metadata": {},
     "output_type": "execute_result"
    }
   ],
   "source": [
    "clf.best_params_"
   ]
  },
  {
   "cell_type": "code",
   "execution_count": 15,
   "id": "5e86c467",
   "metadata": {},
   "outputs": [
    {
     "name": "stdout",
     "output_type": "stream",
     "text": [
      "              precision    recall  f1-score   support\n",
      "\n",
      "           D       0.38      0.19      0.25        78\n",
      "           L       0.46      0.51      0.48       134\n",
      "           W       0.48      0.55      0.51       134\n",
      "\n",
      "    accuracy                           0.46       346\n",
      "   macro avg       0.44      0.42      0.42       346\n",
      "weighted avg       0.45      0.46      0.44       346\n",
      "\n"
     ]
    }
   ],
   "source": [
    "preds = refined_rf_model.predict(test[predictors])\n",
    "print(classification_report(test['Result'], preds))"
   ]
  },
  {
   "cell_type": "code",
   "execution_count": null,
   "id": "9fe9b4a4",
   "metadata": {},
   "outputs": [],
   "source": [
    "team_matches = matches.groupby('Team')\n"
   ]
  }
 ],
 "metadata": {
  "kernelspec": {
   "display_name": "Python 3",
   "language": "python",
   "name": "python3"
  },
  "language_info": {
   "codemirror_mode": {
    "name": "ipython",
    "version": 3
   },
   "file_extension": ".py",
   "mimetype": "text/x-python",
   "name": "python",
   "nbconvert_exporter": "python",
   "pygments_lexer": "ipython3",
   "version": "3.10.12"
  }
 },
 "nbformat": 4,
 "nbformat_minor": 5
}
