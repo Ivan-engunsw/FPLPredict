{
 "cells": [
  {
   "cell_type": "code",
   "execution_count": 3,
   "id": "3cb59b55",
   "metadata": {},
   "outputs": [],
   "source": [
    "import pandas as pd\n",
    "from sklearn.ensemble import RandomForestClassifier, VotingClassifier\n",
    "from sklearn.model_selection import GridSearchCV\n",
    "import numpy as np\n",
    "from sklearn.metrics import classification_report\n",
    "from sklearn.svm import SVC\n",
    "from xgboost import XGBClassifier\n",
    "from sklearn.linear_model import LogisticRegression\n",
    "from sklearn.model_selection import TimeSeriesSplit\n",
    "import seaborn as sns\n",
    "import matplotlib.pyplot as plt\n",
    "from collections import defaultdict\n",
    "from sklearn.svm import SVC\n",
    "from sklearn.utils.class_weight import compute_sample_weight\n",
    "from sklearn.preprocessing import StandardScaler\n",
    "from sklearn.inspection import permutation_importance\n",
    "import re, copy\n",
    "\n",
    "SEASON_SPLIT = 2024"
   ]
  },
  {
   "cell_type": "markdown",
   "id": "c905d973",
   "metadata": {},
   "source": [
    "## Reading in data from csv files"
   ]
  },
  {
   "cell_type": "code",
   "execution_count": 4,
   "id": "ba5ba776",
   "metadata": {},
   "outputs": [
    {
     "name": "stdout",
     "output_type": "stream",
     "text": [
      "(2955, 40)\n"
     ]
    }
   ],
   "source": [
    "matches = pd.read_csv('matches.csv', index_col=0)\n",
    "print(matches.shape)"
   ]
  },
  {
   "cell_type": "code",
   "execution_count": 5,
   "id": "113f4870",
   "metadata": {},
   "outputs": [
    {
     "name": "stdout",
     "output_type": "stream",
     "text": [
      "(20, 22)\n"
     ]
    }
   ],
   "source": [
    "next_matches = pd.read_csv('next_matches.csv', index_col=0)\n",
    "print(next_matches.shape)"
   ]
  },
  {
   "cell_type": "code",
   "execution_count": 6,
   "id": "ff5112cf",
   "metadata": {},
   "outputs": [
    {
     "name": "stdout",
     "output_type": "stream",
     "text": [
      "(44647, 16)\n"
     ]
    }
   ],
   "source": [
    "history_matches = pd.read_csv('history.csv', index_col=0)\n",
    "print(history_matches.shape)"
   ]
  },
  {
   "cell_type": "code",
   "execution_count": 7,
   "id": "701f7fd6",
   "metadata": {},
   "outputs": [
    {
     "data": {
      "text/html": [
       "<div>\n",
       "<style scoped>\n",
       "    .dataframe tbody tr th:only-of-type {\n",
       "        vertical-align: middle;\n",
       "    }\n",
       "\n",
       "    .dataframe tbody tr th {\n",
       "        vertical-align: top;\n",
       "    }\n",
       "\n",
       "    .dataframe thead th {\n",
       "        text-align: right;\n",
       "    }\n",
       "</style>\n",
       "<table border=\"1\" class=\"dataframe\">\n",
       "  <thead>\n",
       "    <tr style=\"text-align: right;\">\n",
       "      <th></th>\n",
       "      <th>Date</th>\n",
       "      <th>Time</th>\n",
       "      <th>Comp</th>\n",
       "      <th>Round</th>\n",
       "      <th>Day</th>\n",
       "      <th>Venue</th>\n",
       "      <th>Result</th>\n",
       "      <th>GF</th>\n",
       "      <th>GA</th>\n",
       "      <th>Opponent</th>\n",
       "      <th>...</th>\n",
       "      <th>2CrdY</th>\n",
       "      <th>Fls</th>\n",
       "      <th>Fld</th>\n",
       "      <th>Off</th>\n",
       "      <th>Crs</th>\n",
       "      <th>Int</th>\n",
       "      <th>TklW</th>\n",
       "      <th>Won%</th>\n",
       "      <th>SCA</th>\n",
       "      <th>GCA</th>\n",
       "    </tr>\n",
       "  </thead>\n",
       "  <tbody>\n",
       "    <tr>\n",
       "      <th>1</th>\n",
       "      <td>2025-08-15</td>\n",
       "      <td>20:00 (05:00)</td>\n",
       "      <td>Premier League</td>\n",
       "      <td>Matchweek 1</td>\n",
       "      <td>Fri</td>\n",
       "      <td>Home</td>\n",
       "      <td>W</td>\n",
       "      <td>4</td>\n",
       "      <td>2</td>\n",
       "      <td>Bournemouth</td>\n",
       "      <td>...</td>\n",
       "      <td>0.0</td>\n",
       "      <td>7.0</td>\n",
       "      <td>10.0</td>\n",
       "      <td>2.0</td>\n",
       "      <td>17.0</td>\n",
       "      <td>4.0</td>\n",
       "      <td>13.0</td>\n",
       "      <td>61.7</td>\n",
       "      <td>36.0</td>\n",
       "      <td>7.0</td>\n",
       "    </tr>\n",
       "    <tr>\n",
       "      <th>2</th>\n",
       "      <td>2025-08-25</td>\n",
       "      <td>20:00 (05:00)</td>\n",
       "      <td>Premier League</td>\n",
       "      <td>Matchweek 2</td>\n",
       "      <td>Mon</td>\n",
       "      <td>Away</td>\n",
       "      <td>W</td>\n",
       "      <td>3</td>\n",
       "      <td>2</td>\n",
       "      <td>Newcastle Utd</td>\n",
       "      <td>...</td>\n",
       "      <td>0.0</td>\n",
       "      <td>15.0</td>\n",
       "      <td>16.0</td>\n",
       "      <td>0.0</td>\n",
       "      <td>9.0</td>\n",
       "      <td>0.0</td>\n",
       "      <td>8.0</td>\n",
       "      <td>51.5</td>\n",
       "      <td>9.0</td>\n",
       "      <td>6.0</td>\n",
       "    </tr>\n",
       "    <tr>\n",
       "      <th>3</th>\n",
       "      <td>2025-08-31</td>\n",
       "      <td>16:30 (01:30)</td>\n",
       "      <td>Premier League</td>\n",
       "      <td>Matchweek 3</td>\n",
       "      <td>Sun</td>\n",
       "      <td>Home</td>\n",
       "      <td>W</td>\n",
       "      <td>1</td>\n",
       "      <td>0</td>\n",
       "      <td>Arsenal</td>\n",
       "      <td>...</td>\n",
       "      <td>0.0</td>\n",
       "      <td>7.0</td>\n",
       "      <td>10.0</td>\n",
       "      <td>1.0</td>\n",
       "      <td>7.0</td>\n",
       "      <td>7.0</td>\n",
       "      <td>9.0</td>\n",
       "      <td>55.6</td>\n",
       "      <td>16.0</td>\n",
       "      <td>2.0</td>\n",
       "    </tr>\n",
       "    <tr>\n",
       "      <th>4</th>\n",
       "      <td>2025-08-17</td>\n",
       "      <td>14:00 (23:00)</td>\n",
       "      <td>Premier League</td>\n",
       "      <td>Matchweek 1</td>\n",
       "      <td>Sun</td>\n",
       "      <td>Home</td>\n",
       "      <td>D</td>\n",
       "      <td>0</td>\n",
       "      <td>0</td>\n",
       "      <td>Crystal Palace</td>\n",
       "      <td>...</td>\n",
       "      <td>0.0</td>\n",
       "      <td>10.0</td>\n",
       "      <td>10.0</td>\n",
       "      <td>0.0</td>\n",
       "      <td>29.0</td>\n",
       "      <td>11.0</td>\n",
       "      <td>6.0</td>\n",
       "      <td>51.5</td>\n",
       "      <td>31.0</td>\n",
       "      <td>0.0</td>\n",
       "    </tr>\n",
       "    <tr>\n",
       "      <th>5</th>\n",
       "      <td>2025-08-22</td>\n",
       "      <td>20:00 (05:00)</td>\n",
       "      <td>Premier League</td>\n",
       "      <td>Matchweek 2</td>\n",
       "      <td>Fri</td>\n",
       "      <td>Away</td>\n",
       "      <td>W</td>\n",
       "      <td>5</td>\n",
       "      <td>1</td>\n",
       "      <td>West Ham</td>\n",
       "      <td>...</td>\n",
       "      <td>0.0</td>\n",
       "      <td>10.0</td>\n",
       "      <td>7.0</td>\n",
       "      <td>2.0</td>\n",
       "      <td>15.0</td>\n",
       "      <td>4.0</td>\n",
       "      <td>13.0</td>\n",
       "      <td>51.7</td>\n",
       "      <td>20.0</td>\n",
       "      <td>9.0</td>\n",
       "    </tr>\n",
       "  </tbody>\n",
       "</table>\n",
       "<p>5 rows × 40 columns</p>\n",
       "</div>"
      ],
      "text/plain": [
       "         Date           Time            Comp        Round  Day Venue Result  \\\n",
       "1  2025-08-15  20:00 (05:00)  Premier League  Matchweek 1  Fri  Home      W   \n",
       "2  2025-08-25  20:00 (05:00)  Premier League  Matchweek 2  Mon  Away      W   \n",
       "3  2025-08-31  16:30 (01:30)  Premier League  Matchweek 3  Sun  Home      W   \n",
       "4  2025-08-17  14:00 (23:00)  Premier League  Matchweek 1  Sun  Home      D   \n",
       "5  2025-08-22  20:00 (05:00)  Premier League  Matchweek 2  Fri  Away      W   \n",
       "\n",
       "  GF GA        Opponent  ...  2CrdY   Fls   Fld  Off   Crs   Int  TklW  Won%  \\\n",
       "1  4  2     Bournemouth  ...    0.0   7.0  10.0  2.0  17.0   4.0  13.0  61.7   \n",
       "2  3  2   Newcastle Utd  ...    0.0  15.0  16.0  0.0   9.0   0.0   8.0  51.5   \n",
       "3  1  0         Arsenal  ...    0.0   7.0  10.0  1.0   7.0   7.0   9.0  55.6   \n",
       "4  0  0  Crystal Palace  ...    0.0  10.0  10.0  0.0  29.0  11.0   6.0  51.5   \n",
       "5  5  1        West Ham  ...    0.0  10.0   7.0  2.0  15.0   4.0  13.0  51.7   \n",
       "\n",
       "    SCA  GCA  \n",
       "1  36.0  7.0  \n",
       "2   9.0  6.0  \n",
       "3  16.0  2.0  \n",
       "4  31.0  0.0  \n",
       "5  20.0  9.0  \n",
       "\n",
       "[5 rows x 40 columns]"
      ]
     },
     "execution_count": 7,
     "metadata": {},
     "output_type": "execute_result"
    }
   ],
   "source": [
    "# getting the matches of the desired league\n",
    "LEAGUE = 'Premier League'\n",
    "league_matches = matches[matches['Comp'] == LEAGUE]\n",
    "league_matches.head()"
   ]
  },
  {
   "cell_type": "markdown",
   "id": "1b6d2fcd",
   "metadata": {},
   "source": [
    "## Date Exploration and Analysis"
   ]
  },
  {
   "cell_type": "code",
   "execution_count": 8,
   "id": "508a9dda",
   "metadata": {},
   "outputs": [
    {
     "data": {
      "text/plain": [
       "Team\n",
       "Liverpool                   117\n",
       "Chelsea                     117\n",
       "Arsenal                     117\n",
       "Tottenham Hotspur           117\n",
       "Everton                     117\n",
       "Bournemouth                 117\n",
       "Crystal Palace              117\n",
       "Manchester United           117\n",
       "Nottingham Forest           117\n",
       "Wolverhampton Wanderers     117\n",
       "Brighton and Hove Albion    117\n",
       "Manchester City             117\n",
       "Brentford                   117\n",
       "Newcastle United            117\n",
       "West Ham United             117\n",
       "Aston Villa                 117\n",
       "Fulham                      117\n",
       "Southampton                  76\n",
       "Leicester City               76\n",
       "Burnley                      41\n",
       "Leeds United                 41\n",
       "Luton Town                   38\n",
       "Ipswich Town                 38\n",
       "Sheffield United             38\n",
       "Sunderland                    3\n",
       "Name: count, dtype: int64"
      ]
     },
     "execution_count": 8,
     "metadata": {},
     "output_type": "execute_result"
    }
   ],
   "source": [
    "league_matches['Team'].value_counts()"
   ]
  },
  {
   "cell_type": "code",
   "execution_count": 9,
   "id": "56ea3ed5",
   "metadata": {},
   "outputs": [
    {
     "data": {
      "text/plain": [
       "Opponent\n",
       "Bournemouth        117\n",
       "Newcastle Utd      117\n",
       "Arsenal            117\n",
       "Crystal Palace     117\n",
       "West Ham           117\n",
       "Fulham             117\n",
       "Manchester Utd     117\n",
       "Liverpool          117\n",
       "Manchester City    117\n",
       "Everton            117\n",
       "Brighton           117\n",
       "Wolves             117\n",
       "Brentford          117\n",
       "Chelsea            117\n",
       "Tottenham          117\n",
       "Nott'ham Forest    117\n",
       "Aston Villa        117\n",
       "Southampton         76\n",
       "Leicester City      76\n",
       "Leeds United        41\n",
       "Burnley             41\n",
       "Sheffield Utd       38\n",
       "Ipswich Town        38\n",
       "Luton Town          38\n",
       "Sunderland           3\n",
       "Name: count, dtype: int64"
      ]
     },
     "execution_count": 9,
     "metadata": {},
     "output_type": "execute_result"
    }
   ],
   "source": [
    "league_matches['Opponent'].value_counts()"
   ]
  },
  {
   "cell_type": "code",
   "execution_count": 10,
   "id": "7d8406bf",
   "metadata": {},
   "outputs": [
    {
     "data": {
      "text/plain": [
       "Date              object\n",
       "Time              object\n",
       "Comp              object\n",
       "Round             object\n",
       "Day               object\n",
       "Venue             object\n",
       "Result            object\n",
       "GF                object\n",
       "GA                object\n",
       "Opponent          object\n",
       "xG               float64\n",
       "xGA              float64\n",
       "Poss             float64\n",
       "Attendance       float64\n",
       "Captain           object\n",
       "Formation         object\n",
       "Opp Formation     object\n",
       "Referee           object\n",
       "Match Report      object\n",
       "Notes             object\n",
       "Season             int64\n",
       "Team              object\n",
       "Sh               float64\n",
       "SoT              float64\n",
       "Dist             float64\n",
       "FK               float64\n",
       "PK               float64\n",
       "PKatt            float64\n",
       "CrdY             float64\n",
       "CrdR             float64\n",
       "2CrdY            float64\n",
       "Fls              float64\n",
       "Fld              float64\n",
       "Off              float64\n",
       "Crs              float64\n",
       "Int              float64\n",
       "TklW             float64\n",
       "Won%             float64\n",
       "SCA              float64\n",
       "GCA              float64\n",
       "dtype: object"
      ]
     },
     "execution_count": 10,
     "metadata": {},
     "output_type": "execute_result"
    }
   ],
   "source": [
    "league_matches.dtypes"
   ]
  },
  {
   "cell_type": "code",
   "execution_count": 11,
   "id": "1ec39cb5",
   "metadata": {},
   "outputs": [
    {
     "name": "stdout",
     "output_type": "stream",
     "text": [
      "Brighton and Hove Albion\n",
      "Manchester United\n",
      "Newcastle United\n",
      "Nottingham Forest\n",
      "Sheffield United\n",
      "Tottenham Hotspur\n",
      "West Ham United\n",
      "Wolverhampton Wanderers\n",
      "---------------------------\n",
      "Brighton\n",
      "Manchester Utd\n",
      "Newcastle Utd\n",
      "Nott'ham Forest\n",
      "Sheffield Utd\n",
      "Tottenham\n",
      "West Ham\n",
      "Wolves\n"
     ]
    }
   ],
   "source": [
    "team_names = sorted(league_matches['Team'].unique())\n",
    "opp_names = sorted(league_matches['Opponent'].unique())\n",
    "\n",
    "exculsive_team_names = []\n",
    "exculsive_opp_names = []\n",
    "\n",
    "# finding out the team names that are written differently in the opponent column\n",
    "for i in team_names:\n",
    "    if (i not in opp_names):\n",
    "        exculsive_team_names.append(i)\n",
    "        print(i)\n",
    "\n",
    "print('---------------------------')\n",
    "\n",
    "for i in opp_names:\n",
    "    if (i not in team_names):\n",
    "        exculsive_opp_names.append(i)\n",
    "        print(i)"
   ]
  },
  {
   "cell_type": "code",
   "execution_count": 12,
   "id": "b2c0c29f",
   "metadata": {},
   "outputs": [],
   "source": [
    "# creating class to map team names written differently in opponent column to \n",
    "# corresponding team names.\n",
    "class MissingDict(dict):\n",
    "    __missing__ = lambda self, key: key\n",
    "\n",
    "map_values = {}\n",
    "\n",
    "for team_name, opp_name in zip(exculsive_team_names, exculsive_opp_names):\n",
    "    map_values[team_name] = opp_name\n",
    "\n",
    "mapping = MissingDict(**map_values)"
   ]
  },
  {
   "cell_type": "code",
   "execution_count": 13,
   "id": "1457aacd",
   "metadata": {},
   "outputs": [],
   "source": [
    "# applying mapping to ensure consistent team names\n",
    "matches['Team'] = matches['Team'].map(mapping)\n",
    "# creating a dictionary of team codes to ensure consistent team codes for each\n",
    "# team\n",
    "team_mapping_dict = {key: value for key, value in zip(matches['Team'], matches['Team'].astype('category').cat.codes)}\n",
    "matches['Team_code'] = matches['Team'].map(team_mapping_dict)\n",
    "matches['Opp_code'] = matches['Opponent'].map(team_mapping_dict)\n",
    "\n",
    "# simplifying date and venue into respective codes\n",
    "matches['Date'] = pd.to_datetime(matches['Date'])\n",
    "matches['Venue_code'] = matches['Venue'].astype('category').cat.codes\n",
    "matches['Hour'] = matches['Time'].str.replace(\":.+\", \"\", regex=True).astype('int')\n",
    "matches['Day_code'] = matches['Date'].dt.dayofweek\n",
    "\n",
    "matches['Target'] = matches['Result'].astype('category').cat.codes\n",
    "\n",
    "matches['GF'] = matches['GF'].apply(lambda x: int(re.search(r'^[0-9]+', x).group(0)))\n",
    "matches['GA'] = matches['GA'].apply(lambda x: int(re.search(r'^[0-9]+', str(x)).group(0)))"
   ]
  },
  {
   "cell_type": "code",
   "execution_count": 14,
   "id": "22f200d1",
   "metadata": {},
   "outputs": [],
   "source": [
    "matches = matches.drop(columns=['Time', 'Day', 'Result', 'Attendance',\n",
    "                                'Match Report', 'Notes','Captain', 'Formation',\n",
    "                                'Opp Formation', 'Referee'])"
   ]
  },
  {
   "cell_type": "code",
   "execution_count": 15,
   "id": "579785b8",
   "metadata": {},
   "outputs": [
    {
     "data": {
      "text/plain": [
       "Date          datetime64[ns]\n",
       "Comp                  object\n",
       "Round                 object\n",
       "Venue                 object\n",
       "GF                     int64\n",
       "GA                     int64\n",
       "Opponent              object\n",
       "xG                   float64\n",
       "xGA                  float64\n",
       "Poss                 float64\n",
       "Season                 int64\n",
       "Team                  object\n",
       "Sh                   float64\n",
       "SoT                  float64\n",
       "Dist                 float64\n",
       "FK                   float64\n",
       "PK                   float64\n",
       "PKatt                float64\n",
       "CrdY                 float64\n",
       "CrdR                 float64\n",
       "2CrdY                float64\n",
       "Fls                  float64\n",
       "Fld                  float64\n",
       "Off                  float64\n",
       "Crs                  float64\n",
       "Int                  float64\n",
       "TklW                 float64\n",
       "Won%                 float64\n",
       "SCA                  float64\n",
       "GCA                  float64\n",
       "Team_code              int64\n",
       "Opp_code             float64\n",
       "Venue_code              int8\n",
       "Hour                   int64\n",
       "Day_code               int32\n",
       "Target                  int8\n",
       "dtype: object"
      ]
     },
     "execution_count": 15,
     "metadata": {},
     "output_type": "execute_result"
    }
   ],
   "source": [
    "matches.dtypes"
   ]
  },
  {
   "cell_type": "code",
   "execution_count": 16,
   "id": "06a86218",
   "metadata": {},
   "outputs": [
    {
     "data": {
      "text/plain": [
       "Target\n",
       "2    1253\n",
       "1    1057\n",
       "0     645\n",
       "Name: count, dtype: int64"
      ]
     },
     "execution_count": 16,
     "metadata": {},
     "output_type": "execute_result"
    }
   ],
   "source": [
    "matches['Target'].value_counts()"
   ]
  },
  {
   "cell_type": "code",
   "execution_count": 17,
   "id": "4078abb4",
   "metadata": {},
   "outputs": [],
   "source": [
    "next_matches['Team'] = next_matches['Team'].map(mapping)\n",
    "next_matches['Team_code'] = next_matches['Team'].map(team_mapping_dict)\n",
    "next_matches['Opp_code'] = next_matches['Opponent'].map(team_mapping_dict)\n",
    "\n",
    "next_matches['Date'] = pd.to_datetime(next_matches['Date'])\n",
    "next_matches['Venue_code'] = next_matches['Venue'].astype('category').cat.codes\n",
    "next_matches['Hour'] = next_matches['Time'].str.replace(\":.+\", \"\", regex=True).astype('int')\n",
    "next_matches['Day_code'] = next_matches['Date'].dt.dayofweek"
   ]
  },
  {
   "cell_type": "code",
   "execution_count": 18,
   "id": "a199d885",
   "metadata": {},
   "outputs": [],
   "source": [
    "next_matches = next_matches.drop(columns=['Time', 'Day', 'Venue', 'Result', \n",
    "                                          'Attendance', 'Match Report', 'Notes',\n",
    "                                          'Captain', 'Formation',\n",
    "                                          'Opp Formation', 'Referee'])"
   ]
  },
  {
   "cell_type": "code",
   "execution_count": 19,
   "id": "ab013ac2",
   "metadata": {},
   "outputs": [
    {
     "data": {
      "text/plain": [
       "Date          datetime64[ns]\n",
       "Comp                  object\n",
       "Round                 object\n",
       "GF                   float64\n",
       "GA                   float64\n",
       "Opponent              object\n",
       "xG                   float64\n",
       "xGA                  float64\n",
       "Poss                 float64\n",
       "Season                 int64\n",
       "Team                  object\n",
       "Team_code              int64\n",
       "Opp_code               int64\n",
       "Venue_code              int8\n",
       "Hour                   int64\n",
       "Day_code               int32\n",
       "dtype: object"
      ]
     },
     "execution_count": 19,
     "metadata": {},
     "output_type": "execute_result"
    }
   ],
   "source": [
    "next_matches.dtypes"
   ]
  },
  {
   "cell_type": "code",
   "execution_count": 20,
   "id": "6e5cf550",
   "metadata": {},
   "outputs": [],
   "source": [
    "def get_Target(row):\n",
    "    if row['GF'] > row['GA']:\n",
    "        return 2\n",
    "    elif row['GF'] < row['GA']:\n",
    "        return 1\n",
    "    else:\n",
    "        return 0"
   ]
  },
  {
   "cell_type": "code",
   "execution_count": 21,
   "id": "95997edb",
   "metadata": {},
   "outputs": [],
   "source": [
    "history_matches['Team'] = history_matches['Team'].map(mapping)\n",
    "history_matches['Date'] = pd.to_datetime(history_matches['Date'])\n",
    "history_matches['GF'] = history_matches['Score'].apply(lambda score: (score.split('–')[0]))\n",
    "history_matches['GA'] = history_matches['Score'].apply(lambda score: score.split('–')[1])\n",
    "history_matches['GF'] = history_matches['GF'].apply(lambda x: int(re.search(r'[0-9]+$', x).group(0)))\n",
    "history_matches['GA'] = history_matches['GA'].apply(lambda x: int(re.search(r'^[0-9]+', x).group(0)))\n",
    "history_matches['Target'] = history_matches.apply(get_Target, axis=1)"
   ]
  },
  {
   "cell_type": "code",
   "execution_count": 22,
   "id": "f46a8a35",
   "metadata": {},
   "outputs": [],
   "source": [
    "history_matches = history_matches.drop(columns=['Time', 'Day', 'Venue', \n",
    "                                                'Attendance', 'Match Report', \n",
    "                                                'Notes', 'Referee',\n",
    "                                                'Home', 'Away'])"
   ]
  },
  {
   "cell_type": "code",
   "execution_count": 23,
   "id": "8fd3ba3b",
   "metadata": {},
   "outputs": [
    {
     "data": {
      "text/plain": [
       "Comp              object\n",
       "Round             object\n",
       "Date      datetime64[ns]\n",
       "xG               float64\n",
       "Score             object\n",
       "xG.1             float64\n",
       "Team              object\n",
       "GF                 int64\n",
       "GA                 int64\n",
       "Target             int64\n",
       "dtype: object"
      ]
     },
     "execution_count": 23,
     "metadata": {},
     "output_type": "execute_result"
    }
   ],
   "source": [
    "history_matches.dtypes"
   ]
  },
  {
   "cell_type": "code",
   "execution_count": 24,
   "id": "27170d24",
   "metadata": {},
   "outputs": [
    {
     "data": {
      "text/html": [
       "<div>\n",
       "<style scoped>\n",
       "    .dataframe tbody tr th:only-of-type {\n",
       "        vertical-align: middle;\n",
       "    }\n",
       "\n",
       "    .dataframe tbody tr th {\n",
       "        vertical-align: top;\n",
       "    }\n",
       "\n",
       "    .dataframe thead th {\n",
       "        text-align: right;\n",
       "    }\n",
       "</style>\n",
       "<table border=\"1\" class=\"dataframe\">\n",
       "  <thead>\n",
       "    <tr style=\"text-align: right;\">\n",
       "      <th></th>\n",
       "      <th>Comp</th>\n",
       "      <th>Round</th>\n",
       "      <th>Date</th>\n",
       "      <th>xG</th>\n",
       "      <th>Score</th>\n",
       "      <th>xG.1</th>\n",
       "      <th>Team</th>\n",
       "      <th>GF</th>\n",
       "      <th>GA</th>\n",
       "      <th>Target</th>\n",
       "    </tr>\n",
       "  </thead>\n",
       "  <tbody>\n",
       "    <tr>\n",
       "      <th>0</th>\n",
       "      <td>Premier League</td>\n",
       "      <td>Premier League</td>\n",
       "      <td>2023-04-17</td>\n",
       "      <td>1.4</td>\n",
       "      <td>1–6</td>\n",
       "      <td>2.7</td>\n",
       "      <td>Liverpool</td>\n",
       "      <td>1</td>\n",
       "      <td>6</td>\n",
       "      <td>1</td>\n",
       "    </tr>\n",
       "    <tr>\n",
       "      <th>1</th>\n",
       "      <td>Premier League</td>\n",
       "      <td>Premier League</td>\n",
       "      <td>2022-10-29</td>\n",
       "      <td>1.7</td>\n",
       "      <td>1–2</td>\n",
       "      <td>1.8</td>\n",
       "      <td>Liverpool</td>\n",
       "      <td>1</td>\n",
       "      <td>2</td>\n",
       "      <td>1</td>\n",
       "    </tr>\n",
       "    <tr>\n",
       "      <th>2</th>\n",
       "      <td>Premier League</td>\n",
       "      <td>Premier League</td>\n",
       "      <td>2022-02-23</td>\n",
       "      <td>5.9</td>\n",
       "      <td>6–0</td>\n",
       "      <td>0.2</td>\n",
       "      <td>Liverpool</td>\n",
       "      <td>6</td>\n",
       "      <td>0</td>\n",
       "      <td>2</td>\n",
       "    </tr>\n",
       "    <tr>\n",
       "      <th>3</th>\n",
       "      <td>Premier League</td>\n",
       "      <td>Premier League</td>\n",
       "      <td>2021-09-12</td>\n",
       "      <td>1.2</td>\n",
       "      <td>0–3</td>\n",
       "      <td>4.3</td>\n",
       "      <td>Liverpool</td>\n",
       "      <td>0</td>\n",
       "      <td>3</td>\n",
       "      <td>1</td>\n",
       "    </tr>\n",
       "    <tr>\n",
       "      <th>4</th>\n",
       "      <td>Premier League</td>\n",
       "      <td>Premier League</td>\n",
       "      <td>2021-04-19</td>\n",
       "      <td>2.3</td>\n",
       "      <td>1–1</td>\n",
       "      <td>1.4</td>\n",
       "      <td>Liverpool</td>\n",
       "      <td>1</td>\n",
       "      <td>1</td>\n",
       "      <td>0</td>\n",
       "    </tr>\n",
       "  </tbody>\n",
       "</table>\n",
       "</div>"
      ],
      "text/plain": [
       "             Comp           Round       Date   xG Score  xG.1       Team  GF  \\\n",
       "0  Premier League  Premier League 2023-04-17  1.4   1–6   2.7  Liverpool   1   \n",
       "1  Premier League  Premier League 2022-10-29  1.7   1–2   1.8  Liverpool   1   \n",
       "2  Premier League  Premier League 2022-02-23  5.9   6–0   0.2  Liverpool   6   \n",
       "3  Premier League  Premier League 2021-09-12  1.2   0–3   4.3  Liverpool   0   \n",
       "4  Premier League  Premier League 2021-04-19  2.3   1–1   1.4  Liverpool   1   \n",
       "\n",
       "   GA  Target  \n",
       "0   6       1  \n",
       "1   2       1  \n",
       "2   0       2  \n",
       "3   3       1  \n",
       "4   1       0  "
      ]
     },
     "execution_count": 24,
     "metadata": {},
     "output_type": "execute_result"
    }
   ],
   "source": [
    "history_matches.head()"
   ]
  },
  {
   "cell_type": "code",
   "execution_count": 25,
   "id": "9dfca813",
   "metadata": {},
   "outputs": [],
   "source": [
    "# function to compute rolling averages of given columns for each match\n",
    "def rolling_avgs(group, cols, new_cols, num_past_matches_considered=3):\n",
    "    group = group.sort_values('Date')\n",
    "    rolling_stats = group[cols].rolling(num_past_matches_considered, \n",
    "                                        closed='left', min_periods=1).mean()\n",
    "    group[new_cols] = rolling_stats.fillna(0)\n",
    "    return group"
   ]
  },
  {
   "cell_type": "code",
   "execution_count": 26,
   "id": "f989cc55",
   "metadata": {},
   "outputs": [],
   "source": [
    "# rolling avgs for matches across the desired league\n",
    "league_ravg_cols = ['GF', 'GA', 'Sh', 'SoT', 'Dist', 'FK', 'PK', 'PKatt', 'CrdY', \n",
    "             'CrdR', '2CrdY', 'Fls', 'Fld', 'Off', 'Crs', 'Int', 'TklW', 'Won%',\n",
    "             'SCA', 'GCA', 'xG', 'xGA']\n",
    "league_ravg_new_cols = [f\"{c}league_rolling\" for c in league_ravg_cols]"
   ]
  },
  {
   "cell_type": "code",
   "execution_count": 27,
   "id": "27877849",
   "metadata": {},
   "outputs": [],
   "source": [
    "# stats for last match\n",
    "last_ravg_cols = ['GF', 'GA', 'Sh', 'SoT', 'Dist', 'FK', 'PK', 'PKatt', 'CrdY', \n",
    "             'CrdR', '2CrdY', 'Fls', 'Fld', 'Off', 'Crs', 'Int', 'TklW', 'Won%',\n",
    "             'SCA', 'GCA', 'xG', 'xGA', 'Target']\n",
    "last_ravg_new_cols = [f\"{c}last_rolling\" for c in last_ravg_cols]"
   ]
  },
  {
   "cell_type": "code",
   "execution_count": 28,
   "id": "0b34fb46",
   "metadata": {},
   "outputs": [],
   "source": [
    "# rolling avgs for matches across all head to head matches\n",
    "hth_ravg_cols = ['xG', 'xG.1', 'GF', 'GA']\n",
    "hth_ravg_new_cols = [f\"{c}hth_rolling\" for c in hth_ravg_cols]"
   ]
  },
  {
   "cell_type": "code",
   "execution_count": 29,
   "id": "d41da5ca",
   "metadata": {},
   "outputs": [],
   "source": [
    "def rolling_avg_match_rest(group, num_past_matches_considered=3):\n",
    "    group['days_diff'] = group['Date'].diff().dt.days\n",
    "    rolling_stats = group['days_diff'].rolling(num_past_matches_considered, \n",
    "                                        closed='left', min_periods=1).mean()\n",
    "    group[f'rolling_rests_{num_past_matches_considered}'] = rolling_stats.fillna(0)\n",
    "    return group"
   ]
  },
  {
   "cell_type": "code",
   "execution_count": 30,
   "id": "65268bd2",
   "metadata": {},
   "outputs": [],
   "source": [
    "def rolling_match_results(group, name, num_past_matches_considered=3):\n",
    "    group['is_win'] = (group['Target'] == 2).astype(int)\n",
    "    rolling_stats = group['is_win'].rolling(num_past_matches_considered, \n",
    "                                        closed='left', min_periods=1).sum()\n",
    "    group[f'{name}num_wins_rolling'] = rolling_stats.fillna(0)\n",
    "    return group"
   ]
  },
  {
   "cell_type": "code",
   "execution_count": 31,
   "id": "bdbd527a",
   "metadata": {},
   "outputs": [],
   "source": [
    "all_matches = pd.concat([matches, next_matches])\n",
    "all_matches = all_matches.groupby('Team', group_keys=True).apply(lambda x: rolling_avg_match_rest(x),\n",
    "                                                                         include_groups=False).reset_index(level=0).reset_index(drop=True)\n",
    "league_matches = all_matches[all_matches['Comp'] == LEAGUE]\n",
    "team_league_matches = league_matches.groupby('Team', group_keys=True).apply(lambda x: rolling_avgs(x, league_ravg_cols, league_ravg_new_cols),\n",
    "                                                                         include_groups=False).reset_index(level=0).reset_index(drop=True)\n",
    "team_league_matches = team_league_matches.groupby('Team', group_keys=True).apply(lambda x: rolling_match_results(x, 'league'),\n",
    "                                                                         include_groups=False).reset_index(level=0).reset_index(drop=True)\n",
    "# team_matches = team_matches.droplevel('Team')\n",
    "# team_matches.index = range(team_matches.shape[0])\n",
    "team_last_matches = all_matches.groupby('Team', group_keys=True).apply(lambda x: rolling_avg_match_rest(x,1),\n",
    "                                                                         include_groups=False).reset_index(level=0).reset_index(drop=True)\n",
    "team_last_matches = team_last_matches.groupby('Team', group_keys=True).apply(lambda x: rolling_avgs(x, last_ravg_cols, last_ravg_new_cols,1),\n",
    "                                                                         include_groups=False).reset_index(level=0).reset_index(drop=True)\n",
    "hth_and_next_matches = pd.concat([history_matches, next_matches])\n",
    "team_hth_matches = hth_and_next_matches.groupby('Team', group_keys=True).apply(lambda x: rolling_avgs(x, hth_ravg_cols, hth_ravg_new_cols),\n",
    "                                                                               include_groups=False).reset_index(level=0).reset_index(drop=True)\n",
    "\n",
    "team_hth_matches = team_hth_matches.groupby('Team', group_keys=True).apply(lambda x: rolling_match_results(x, 'hth'),\n",
    "                                                                               include_groups=False).reset_index(level=0).reset_index(drop=True)\n"
   ]
  },
  {
   "cell_type": "code",
   "execution_count": 32,
   "id": "b220cbf1",
   "metadata": {},
   "outputs": [],
   "source": [
    "opp_team_league_matches = team_league_matches.copy()\n",
    "opp_team_league_matches = opp_team_league_matches.add_prefix('Opp_')\n",
    "\n",
    "opp_team_last_matches = team_last_matches.copy()\n",
    "opp_team_last_matches = opp_team_last_matches.add_prefix('Opp_')"
   ]
  },
  {
   "cell_type": "code",
   "execution_count": 33,
   "id": "80f65297",
   "metadata": {},
   "outputs": [],
   "source": [
    "team_league_matches = team_league_matches.merge(opp_team_league_matches,\n",
    "                                         left_on=['Date', 'Opponent'],\n",
    "                                         right_on=['Opp_Date', 'Opp_Team'],\n",
    "                                         how='left')\n",
    "team_league_matches = team_league_matches.drop(columns=['Opp_Date', 'Opp_Team', 'Opp_Comp', 'Opp_Round',\n",
    "                                  'Opp_GF', 'Opp_GA', 'Opp_Opponent','Opp_xG',\n",
    "                                  'Opp_xGA', 'Opp_Season', 'Opp_Team_code', 'Opp_Opp_code',\n",
    "                                  'Opp_Venue_code', 'Opp_Hour', 'Opp_Day_code',\n",
    "                                  'Opp_Target', 'Opp_days_diff', 'Opp_is_win'])\n",
    "team_last_matches = team_last_matches.merge(opp_team_last_matches,\n",
    "                                         left_on=['Date', 'Opponent'],\n",
    "                                         right_on=['Opp_Date', 'Opp_Team'],\n",
    "                                         how='left')\n",
    "team_last_matches = team_last_matches.drop(columns=['Opp_Date', 'Opp_Team', 'Opp_Comp', 'Opp_Round',\n",
    "                                  'Opp_GF', 'Opp_GA', 'Opp_Opponent','Opp_xG',\n",
    "                                  'Opp_xGA', 'Opp_Season', 'Opp_Team_code', 'Opp_Opp_code',\n",
    "                                  'Opp_Venue_code', 'Opp_Hour', 'Opp_Day_code',\n",
    "                                  'Opp_days_diff'])"
   ]
  },
  {
   "cell_type": "code",
   "execution_count": 34,
   "id": "45830bad",
   "metadata": {},
   "outputs": [],
   "source": [
    "last_ravg_new_cols_merge = copy.deepcopy(last_ravg_new_cols)\n",
    "hth_ravg_new_cols_merge = copy.deepcopy(hth_ravg_new_cols)\n",
    "last_ravg_new_cols_merge = last_ravg_new_cols_merge + ['Opp_' + column for column in last_ravg_new_cols_merge]\n",
    "last_ravg_new_cols_merge.append('Date')\n",
    "hth_ravg_new_cols_merge.append('Date')\n",
    "last_ravg_new_cols_merge.append('Team')\n",
    "hth_ravg_new_cols_merge.append('Team')\n",
    "last_ravg_new_cols_merge.append('rolling_rests_1')\n",
    "last_ravg_new_cols_merge.append('Opp_rolling_rests_1')\n",
    "hth_ravg_new_cols_merge.append('hthnum_wins_rolling')\n",
    "team_matches = team_league_matches.merge(team_last_matches[last_ravg_new_cols_merge],\n",
    "                                                on=['Date', 'Team'], how='left')\n",
    "team_matches = team_matches.merge(team_hth_matches[hth_ravg_new_cols_merge],\n",
    "                                                on=['Date', 'Team'], how='left')"
   ]
  },
  {
   "cell_type": "code",
   "execution_count": 35,
   "id": "63cca228",
   "metadata": {},
   "outputs": [],
   "source": [
    "team_matches = team_matches[team_matches['Comp'] == LEAGUE]"
   ]
  },
  {
   "cell_type": "code",
   "execution_count": 36,
   "id": "47e4b9f6",
   "metadata": {},
   "outputs": [
    {
     "data": {
      "text/plain": [
       "(2360, 159)"
      ]
     },
     "execution_count": 36,
     "metadata": {},
     "output_type": "execute_result"
    }
   ],
   "source": [
    "team_matches.shape"
   ]
  },
  {
   "cell_type": "code",
   "execution_count": 37,
   "id": "b0d70cfb",
   "metadata": {},
   "outputs": [
    {
     "name": "stdout",
     "output_type": "stream",
     "text": [
      "['Team', 'Date', 'Comp', 'Round', 'Venue', 'GF', 'GA', 'Opponent', 'xG', 'xGA', 'Poss', 'Season', 'Sh', 'SoT', 'Dist', 'FK', 'PK', 'PKatt', 'CrdY', 'CrdR', '2CrdY', 'Fls', 'Fld', 'Off', 'Crs', 'Int', 'TklW', 'Won%', 'SCA', 'GCA', 'Team_code', 'Opp_code', 'Venue_code', 'Hour', 'Day_code', 'Target', 'days_diff', 'rolling_rests_3', 'GFleague_rolling', 'GAleague_rolling', 'Shleague_rolling', 'SoTleague_rolling', 'Distleague_rolling', 'FKleague_rolling', 'PKleague_rolling', 'PKattleague_rolling', 'CrdYleague_rolling', 'CrdRleague_rolling', '2CrdYleague_rolling', 'Flsleague_rolling', 'Fldleague_rolling', 'Offleague_rolling', 'Crsleague_rolling', 'Intleague_rolling', 'TklWleague_rolling', 'Won%league_rolling', 'SCAleague_rolling', 'GCAleague_rolling', 'xGleague_rolling', 'xGAleague_rolling', 'is_win', 'leaguenum_wins_rolling', 'Opp_Venue', 'Opp_Poss', 'Opp_Sh', 'Opp_SoT', 'Opp_Dist', 'Opp_FK', 'Opp_PK', 'Opp_PKatt', 'Opp_CrdY', 'Opp_CrdR', 'Opp_2CrdY', 'Opp_Fls', 'Opp_Fld', 'Opp_Off', 'Opp_Crs', 'Opp_Int', 'Opp_TklW', 'Opp_Won%', 'Opp_SCA', 'Opp_GCA', 'Opp_rolling_rests_3', 'Opp_GFleague_rolling', 'Opp_GAleague_rolling', 'Opp_Shleague_rolling', 'Opp_SoTleague_rolling', 'Opp_Distleague_rolling', 'Opp_FKleague_rolling', 'Opp_PKleague_rolling', 'Opp_PKattleague_rolling', 'Opp_CrdYleague_rolling', 'Opp_CrdRleague_rolling', 'Opp_2CrdYleague_rolling', 'Opp_Flsleague_rolling', 'Opp_Fldleague_rolling', 'Opp_Offleague_rolling', 'Opp_Crsleague_rolling', 'Opp_Intleague_rolling', 'Opp_TklWleague_rolling', 'Opp_Won%league_rolling', 'Opp_SCAleague_rolling', 'Opp_GCAleague_rolling', 'Opp_xGleague_rolling', 'Opp_xGAleague_rolling', 'Opp_leaguenum_wins_rolling', 'GFlast_rolling', 'GAlast_rolling', 'Shlast_rolling', 'SoTlast_rolling', 'Distlast_rolling', 'FKlast_rolling', 'PKlast_rolling', 'PKattlast_rolling', 'CrdYlast_rolling', 'CrdRlast_rolling', '2CrdYlast_rolling', 'Flslast_rolling', 'Fldlast_rolling', 'Offlast_rolling', 'Crslast_rolling', 'Intlast_rolling', 'TklWlast_rolling', 'Won%last_rolling', 'SCAlast_rolling', 'GCAlast_rolling', 'xGlast_rolling', 'xGAlast_rolling', 'Targetlast_rolling', 'Opp_GFlast_rolling', 'Opp_GAlast_rolling', 'Opp_Shlast_rolling', 'Opp_SoTlast_rolling', 'Opp_Distlast_rolling', 'Opp_FKlast_rolling', 'Opp_PKlast_rolling', 'Opp_PKattlast_rolling', 'Opp_CrdYlast_rolling', 'Opp_CrdRlast_rolling', 'Opp_2CrdYlast_rolling', 'Opp_Flslast_rolling', 'Opp_Fldlast_rolling', 'Opp_Offlast_rolling', 'Opp_Crslast_rolling', 'Opp_Intlast_rolling', 'Opp_TklWlast_rolling', 'Opp_Won%last_rolling', 'Opp_SCAlast_rolling', 'Opp_GCAlast_rolling', 'Opp_xGlast_rolling', 'Opp_xGAlast_rolling', 'Opp_Targetlast_rolling', 'rolling_rests_1', 'Opp_rolling_rests_1', 'xGhth_rolling', 'xG.1hth_rolling', 'GFhth_rolling', 'GAhth_rolling', 'hthnum_wins_rolling']\n"
     ]
    }
   ],
   "source": [
    "print(list(team_matches.columns))"
   ]
  },
  {
   "cell_type": "code",
   "execution_count": 38,
   "id": "71ab598c",
   "metadata": {},
   "outputs": [],
   "source": [
    "sorted_round = sorted(team_matches['Round'].unique(), key=lambda round:int((re.search('[0-9]+$', round)).group(0)))\n",
    "round_mapping_dict = {value: key for key, value in enumerate(sorted_round, start=1)}\n",
    "team_matches['Round'] = team_matches['Round'].map(round_mapping_dict)"
   ]
  },
  {
   "cell_type": "code",
   "execution_count": 39,
   "id": "2403570b",
   "metadata": {},
   "outputs": [
    {
     "data": {
      "text/html": [
       "<div>\n",
       "<style scoped>\n",
       "    .dataframe tbody tr th:only-of-type {\n",
       "        vertical-align: middle;\n",
       "    }\n",
       "\n",
       "    .dataframe tbody tr th {\n",
       "        vertical-align: top;\n",
       "    }\n",
       "\n",
       "    .dataframe thead th {\n",
       "        text-align: right;\n",
       "    }\n",
       "</style>\n",
       "<table border=\"1\" class=\"dataframe\">\n",
       "  <thead>\n",
       "    <tr style=\"text-align: right;\">\n",
       "      <th></th>\n",
       "      <th>Team</th>\n",
       "      <th>Date</th>\n",
       "      <th>Comp</th>\n",
       "      <th>Round</th>\n",
       "      <th>Venue</th>\n",
       "      <th>GF</th>\n",
       "      <th>GA</th>\n",
       "      <th>Opponent</th>\n",
       "      <th>xG</th>\n",
       "      <th>xGA</th>\n",
       "      <th>...</th>\n",
       "      <th>Opp_Targetlast_rolling</th>\n",
       "      <th>rolling_rests_1</th>\n",
       "      <th>Opp_rolling_rests_1</th>\n",
       "      <th>xGhth_rolling</th>\n",
       "      <th>xG.1hth_rolling</th>\n",
       "      <th>GFhth_rolling</th>\n",
       "      <th>GAhth_rolling</th>\n",
       "      <th>hthnum_wins_rolling</th>\n",
       "      <th>Team_position</th>\n",
       "      <th>Opp_position</th>\n",
       "    </tr>\n",
       "  </thead>\n",
       "  <tbody>\n",
       "    <tr>\n",
       "      <th>0</th>\n",
       "      <td>Arsenal</td>\n",
       "      <td>2022-08-05</td>\n",
       "      <td>Premier League</td>\n",
       "      <td>1</td>\n",
       "      <td>Away</td>\n",
       "      <td>2.0</td>\n",
       "      <td>0.0</td>\n",
       "      <td>Crystal Palace</td>\n",
       "      <td>1.0</td>\n",
       "      <td>1.2</td>\n",
       "      <td>...</td>\n",
       "      <td>0.0</td>\n",
       "      <td>7.0</td>\n",
       "      <td>8.0</td>\n",
       "      <td>2.833333</td>\n",
       "      <td>0.733333</td>\n",
       "      <td>3.333333</td>\n",
       "      <td>0.333333</td>\n",
       "      <td>3.0</td>\n",
       "      <td>0.0</td>\n",
       "      <td>0.0</td>\n",
       "    </tr>\n",
       "    <tr>\n",
       "      <th>1</th>\n",
       "      <td>Crystal Palace</td>\n",
       "      <td>2022-08-05</td>\n",
       "      <td>Premier League</td>\n",
       "      <td>1</td>\n",
       "      <td>Home</td>\n",
       "      <td>0.0</td>\n",
       "      <td>2.0</td>\n",
       "      <td>Arsenal</td>\n",
       "      <td>1.2</td>\n",
       "      <td>1.0</td>\n",
       "      <td>...</td>\n",
       "      <td>0.0</td>\n",
       "      <td>8.0</td>\n",
       "      <td>7.0</td>\n",
       "      <td>0.800000</td>\n",
       "      <td>1.066667</td>\n",
       "      <td>1.666667</td>\n",
       "      <td>1.000000</td>\n",
       "      <td>2.0</td>\n",
       "      <td>0.0</td>\n",
       "      <td>0.0</td>\n",
       "    </tr>\n",
       "    <tr>\n",
       "      <th>2</th>\n",
       "      <td>Southampton</td>\n",
       "      <td>2022-08-06</td>\n",
       "      <td>Premier League</td>\n",
       "      <td>1</td>\n",
       "      <td>Away</td>\n",
       "      <td>1.0</td>\n",
       "      <td>4.0</td>\n",
       "      <td>Tottenham</td>\n",
       "      <td>0.5</td>\n",
       "      <td>1.5</td>\n",
       "      <td>...</td>\n",
       "      <td>0.0</td>\n",
       "      <td>7.0</td>\n",
       "      <td>5.0</td>\n",
       "      <td>2.033333</td>\n",
       "      <td>1.266667</td>\n",
       "      <td>2.666667</td>\n",
       "      <td>1.000000</td>\n",
       "      <td>2.0</td>\n",
       "      <td>0.0</td>\n",
       "      <td>0.0</td>\n",
       "    </tr>\n",
       "    <tr>\n",
       "      <th>3</th>\n",
       "      <td>Aston Villa</td>\n",
       "      <td>2022-08-06</td>\n",
       "      <td>Premier League</td>\n",
       "      <td>1</td>\n",
       "      <td>Away</td>\n",
       "      <td>0.0</td>\n",
       "      <td>2.0</td>\n",
       "      <td>Bournemouth</td>\n",
       "      <td>0.7</td>\n",
       "      <td>0.6</td>\n",
       "      <td>...</td>\n",
       "      <td>0.0</td>\n",
       "      <td>6.0</td>\n",
       "      <td>8.0</td>\n",
       "      <td>1.966667</td>\n",
       "      <td>1.066667</td>\n",
       "      <td>1.666667</td>\n",
       "      <td>1.333333</td>\n",
       "      <td>1.0</td>\n",
       "      <td>0.0</td>\n",
       "      <td>0.0</td>\n",
       "    </tr>\n",
       "    <tr>\n",
       "      <th>4</th>\n",
       "      <td>Liverpool</td>\n",
       "      <td>2022-08-06</td>\n",
       "      <td>Premier League</td>\n",
       "      <td>1</td>\n",
       "      <td>Away</td>\n",
       "      <td>2.0</td>\n",
       "      <td>2.0</td>\n",
       "      <td>Fulham</td>\n",
       "      <td>1.2</td>\n",
       "      <td>1.2</td>\n",
       "      <td>...</td>\n",
       "      <td>0.0</td>\n",
       "      <td>-659.0</td>\n",
       "      <td>8.0</td>\n",
       "      <td>2.450000</td>\n",
       "      <td>1.100000</td>\n",
       "      <td>2.000000</td>\n",
       "      <td>1.000000</td>\n",
       "      <td>2.0</td>\n",
       "      <td>0.0</td>\n",
       "      <td>0.0</td>\n",
       "    </tr>\n",
       "    <tr>\n",
       "      <th>...</th>\n",
       "      <td>...</td>\n",
       "      <td>...</td>\n",
       "      <td>...</td>\n",
       "      <td>...</td>\n",
       "      <td>...</td>\n",
       "      <td>...</td>\n",
       "      <td>...</td>\n",
       "      <td>...</td>\n",
       "      <td>...</td>\n",
       "      <td>...</td>\n",
       "      <td>...</td>\n",
       "      <td>...</td>\n",
       "      <td>...</td>\n",
       "      <td>...</td>\n",
       "      <td>...</td>\n",
       "      <td>...</td>\n",
       "      <td>...</td>\n",
       "      <td>...</td>\n",
       "      <td>...</td>\n",
       "      <td>...</td>\n",
       "      <td>...</td>\n",
       "    </tr>\n",
       "    <tr>\n",
       "      <th>2355</th>\n",
       "      <td>Wolves</td>\n",
       "      <td>2025-09-13</td>\n",
       "      <td>Premier League</td>\n",
       "      <td>4</td>\n",
       "      <td>NaN</td>\n",
       "      <td>NaN</td>\n",
       "      <td>NaN</td>\n",
       "      <td>Newcastle Utd</td>\n",
       "      <td>NaN</td>\n",
       "      <td>NaN</td>\n",
       "      <td>...</td>\n",
       "      <td>0.0</td>\n",
       "      <td>8.0</td>\n",
       "      <td>6.0</td>\n",
       "      <td>1.200000</td>\n",
       "      <td>1.200000</td>\n",
       "      <td>2.000000</td>\n",
       "      <td>1.666667</td>\n",
       "      <td>2.0</td>\n",
       "      <td>20.0</td>\n",
       "      <td>17.0</td>\n",
       "    </tr>\n",
       "    <tr>\n",
       "      <th>2356</th>\n",
       "      <td>Burnley</td>\n",
       "      <td>2025-09-14</td>\n",
       "      <td>Premier League</td>\n",
       "      <td>4</td>\n",
       "      <td>NaN</td>\n",
       "      <td>NaN</td>\n",
       "      <td>NaN</td>\n",
       "      <td>Liverpool</td>\n",
       "      <td>NaN</td>\n",
       "      <td>NaN</td>\n",
       "      <td>...</td>\n",
       "      <td>2.0</td>\n",
       "      <td>8.0</td>\n",
       "      <td>8.0</td>\n",
       "      <td>2.300000</td>\n",
       "      <td>1.000000</td>\n",
       "      <td>2.333333</td>\n",
       "      <td>1.000000</td>\n",
       "      <td>3.0</td>\n",
       "      <td>14.0</td>\n",
       "      <td>1.0</td>\n",
       "    </tr>\n",
       "    <tr>\n",
       "      <th>2357</th>\n",
       "      <td>Liverpool</td>\n",
       "      <td>2025-09-14</td>\n",
       "      <td>Premier League</td>\n",
       "      <td>4</td>\n",
       "      <td>NaN</td>\n",
       "      <td>NaN</td>\n",
       "      <td>NaN</td>\n",
       "      <td>Burnley</td>\n",
       "      <td>NaN</td>\n",
       "      <td>NaN</td>\n",
       "      <td>...</td>\n",
       "      <td>1.0</td>\n",
       "      <td>8.0</td>\n",
       "      <td>8.0</td>\n",
       "      <td>1.233333</td>\n",
       "      <td>0.966667</td>\n",
       "      <td>2.333333</td>\n",
       "      <td>1.666667</td>\n",
       "      <td>2.0</td>\n",
       "      <td>1.0</td>\n",
       "      <td>14.0</td>\n",
       "    </tr>\n",
       "    <tr>\n",
       "      <th>2358</th>\n",
       "      <td>Manchester City</td>\n",
       "      <td>2025-09-14</td>\n",
       "      <td>Premier League</td>\n",
       "      <td>4</td>\n",
       "      <td>NaN</td>\n",
       "      <td>NaN</td>\n",
       "      <td>NaN</td>\n",
       "      <td>Manchester Utd</td>\n",
       "      <td>NaN</td>\n",
       "      <td>NaN</td>\n",
       "      <td>...</td>\n",
       "      <td>2.0</td>\n",
       "      <td>7.0</td>\n",
       "      <td>6.0</td>\n",
       "      <td>1.466667</td>\n",
       "      <td>1.766667</td>\n",
       "      <td>0.666667</td>\n",
       "      <td>2.333333</td>\n",
       "      <td>1.0</td>\n",
       "      <td>13.0</td>\n",
       "      <td>9.0</td>\n",
       "    </tr>\n",
       "    <tr>\n",
       "      <th>2359</th>\n",
       "      <td>Manchester Utd</td>\n",
       "      <td>2025-09-14</td>\n",
       "      <td>Premier League</td>\n",
       "      <td>4</td>\n",
       "      <td>NaN</td>\n",
       "      <td>NaN</td>\n",
       "      <td>NaN</td>\n",
       "      <td>Manchester City</td>\n",
       "      <td>NaN</td>\n",
       "      <td>NaN</td>\n",
       "      <td>...</td>\n",
       "      <td>1.0</td>\n",
       "      <td>6.0</td>\n",
       "      <td>7.0</td>\n",
       "      <td>2.650000</td>\n",
       "      <td>1.400000</td>\n",
       "      <td>2.000000</td>\n",
       "      <td>1.666667</td>\n",
       "      <td>1.0</td>\n",
       "      <td>9.0</td>\n",
       "      <td>13.0</td>\n",
       "    </tr>\n",
       "  </tbody>\n",
       "</table>\n",
       "<p>2360 rows × 161 columns</p>\n",
       "</div>"
      ],
      "text/plain": [
       "                 Team       Date            Comp  Round Venue   GF   GA  \\\n",
       "0             Arsenal 2022-08-05  Premier League      1  Away  2.0  0.0   \n",
       "1      Crystal Palace 2022-08-05  Premier League      1  Home  0.0  2.0   \n",
       "2         Southampton 2022-08-06  Premier League      1  Away  1.0  4.0   \n",
       "3         Aston Villa 2022-08-06  Premier League      1  Away  0.0  2.0   \n",
       "4           Liverpool 2022-08-06  Premier League      1  Away  2.0  2.0   \n",
       "...               ...        ...             ...    ...   ...  ...  ...   \n",
       "2355           Wolves 2025-09-13  Premier League      4   NaN  NaN  NaN   \n",
       "2356          Burnley 2025-09-14  Premier League      4   NaN  NaN  NaN   \n",
       "2357        Liverpool 2025-09-14  Premier League      4   NaN  NaN  NaN   \n",
       "2358  Manchester City 2025-09-14  Premier League      4   NaN  NaN  NaN   \n",
       "2359   Manchester Utd 2025-09-14  Premier League      4   NaN  NaN  NaN   \n",
       "\n",
       "             Opponent   xG  xGA  ...  Opp_Targetlast_rolling  rolling_rests_1  \\\n",
       "0      Crystal Palace  1.0  1.2  ...                     0.0              7.0   \n",
       "1             Arsenal  1.2  1.0  ...                     0.0              8.0   \n",
       "2           Tottenham  0.5  1.5  ...                     0.0              7.0   \n",
       "3         Bournemouth  0.7  0.6  ...                     0.0              6.0   \n",
       "4              Fulham  1.2  1.2  ...                     0.0           -659.0   \n",
       "...               ...  ...  ...  ...                     ...              ...   \n",
       "2355    Newcastle Utd  NaN  NaN  ...                     0.0              8.0   \n",
       "2356        Liverpool  NaN  NaN  ...                     2.0              8.0   \n",
       "2357          Burnley  NaN  NaN  ...                     1.0              8.0   \n",
       "2358   Manchester Utd  NaN  NaN  ...                     2.0              7.0   \n",
       "2359  Manchester City  NaN  NaN  ...                     1.0              6.0   \n",
       "\n",
       "      Opp_rolling_rests_1  xGhth_rolling  xG.1hth_rolling  GFhth_rolling  \\\n",
       "0                     8.0       2.833333         0.733333       3.333333   \n",
       "1                     7.0       0.800000         1.066667       1.666667   \n",
       "2                     5.0       2.033333         1.266667       2.666667   \n",
       "3                     8.0       1.966667         1.066667       1.666667   \n",
       "4                     8.0       2.450000         1.100000       2.000000   \n",
       "...                   ...            ...              ...            ...   \n",
       "2355                  6.0       1.200000         1.200000       2.000000   \n",
       "2356                  8.0       2.300000         1.000000       2.333333   \n",
       "2357                  8.0       1.233333         0.966667       2.333333   \n",
       "2358                  6.0       1.466667         1.766667       0.666667   \n",
       "2359                  7.0       2.650000         1.400000       2.000000   \n",
       "\n",
       "      GAhth_rolling  hthnum_wins_rolling  Team_position  Opp_position  \n",
       "0          0.333333                  3.0            0.0           0.0  \n",
       "1          1.000000                  2.0            0.0           0.0  \n",
       "2          1.000000                  2.0            0.0           0.0  \n",
       "3          1.333333                  1.0            0.0           0.0  \n",
       "4          1.000000                  2.0            0.0           0.0  \n",
       "...             ...                  ...            ...           ...  \n",
       "2355       1.666667                  2.0           20.0          17.0  \n",
       "2356       1.000000                  3.0           14.0           1.0  \n",
       "2357       1.666667                  2.0            1.0          14.0  \n",
       "2358       2.333333                  1.0           13.0           9.0  \n",
       "2359       1.666667                  1.0            9.0          13.0  \n",
       "\n",
       "[2360 rows x 161 columns]"
      ]
     },
     "execution_count": 39,
     "metadata": {},
     "output_type": "execute_result"
    }
   ],
   "source": [
    "# add ranking of the teams at each match\n",
    "team_matches = team_matches.sort_values('Date').reset_index(drop=True)\n",
    "\n",
    "curr_season = 0\n",
    "for season_gameweek, stats in team_matches.groupby(['Season', 'Round'], sort=True):\n",
    "    if curr_season != season_gameweek[0]:\n",
    "        curr_season = season_gameweek[0]\n",
    "        standings = defaultdict(lambda : {'points': 0, 'goal_diff': 0, 'GF': 0})\n",
    "\n",
    "    sorted_standings = sorted(standings.items(), \n",
    "                              key=lambda x: (-x[1]['points'], -x[1]['goal_diff'], -x[1]['GF'], x[0]))\n",
    "    ranking = {team: pos for pos, (team, stats) in enumerate(sorted_standings, start=1)}\n",
    "    \n",
    "    # setting current league position\n",
    "    for index, row in stats.iterrows():\n",
    "        team_matches.at[index, 'Team_position'] = ranking.get(row['Team'], 0)\n",
    "        team_matches.at[index, 'Opp_position'] = ranking.get(row['Opponent'], 0)\n",
    "\n",
    "    # updating ranking data\n",
    "    for index, row in stats.iterrows():\n",
    "        goals_for = row['GF']\n",
    "        goals_against = row['GA']\n",
    "        standings[row['Team']]['GF'] += goals_for\n",
    "        standings[row['Team']]['goal_diff'] += goals_for - goals_against\n",
    "        \n",
    "        if goals_for > goals_against:\n",
    "            standings[row['Team']]['points'] += 3\n",
    "        elif goals_for < goals_against:\n",
    "            standings[row['Team']]['points'] += 0\n",
    "        else:\n",
    "            standings[row['Team']]['points'] += 1\n",
    "\n",
    "team_matches"
   ]
  },
  {
   "cell_type": "code",
   "execution_count": 40,
   "id": "4d84f93b",
   "metadata": {},
   "outputs": [],
   "source": [
    "team_matches.to_csv('new.csv')"
   ]
  },
  {
   "cell_type": "code",
   "execution_count": 41,
   "id": "2583dcbd",
   "metadata": {},
   "outputs": [],
   "source": [
    "team_matches['Match_key'] = team_matches.apply(lambda row: tuple(sorted([row['Team'], row['Opponent']])), axis=1)\n",
    "\n",
    "team_matches = team_matches.drop_duplicates(subset=['Match_key', 'Date'])\n",
    "team_matches = team_matches.drop(columns=['Match_key'])"
   ]
  },
  {
   "cell_type": "code",
   "execution_count": 42,
   "id": "557aaddf",
   "metadata": {},
   "outputs": [
    {
     "data": {
      "text/plain": [
       "(1180, 161)"
      ]
     },
     "execution_count": 42,
     "metadata": {},
     "output_type": "execute_result"
    }
   ],
   "source": [
    "team_matches.shape"
   ]
  },
  {
   "cell_type": "code",
   "execution_count": 43,
   "id": "2873d7a6",
   "metadata": {},
   "outputs": [],
   "source": [
    "INITIAL_ATTACK_STRENGTH = 0\n",
    "INITIAL_DEFENSE_STRENGTH = 0\n",
    "HOME_ADVANTAGE_ADDITION = 0.2\n",
    "LEARNING_RATE = 0.05\n",
    "\n",
    "team_attack_strengths = defaultdict(lambda: INITIAL_ATTACK_STRENGTH)\n",
    "team_defense_strengths = defaultdict(lambda: INITIAL_DEFENSE_STRENGTH)\n",
    "\n",
    "def get_expected_goal(team, opp):\n",
    "    expected_goal_team = np.exp(team_attack_strengths[team] - team_defense_strengths[opp] + HOME_ADVANTAGE_ADDITION)\n",
    "    expected_goal_opp = np.exp(team_attack_strengths[opp] - team_defense_strengths[team])\n",
    "    return (expected_goal_team, expected_goal_opp)\n",
    "\n",
    "def update_strengths(team, opp, team_goals, opp_goals, team_xg, opp_xg):\n",
    "    team_attack_strengths[team] += LEARNING_RATE * (team_goals - team_xg)\n",
    "    team_defense_strengths[team] += LEARNING_RATE * (opp_xg - opp_goals)\n",
    "\n",
    "    team_attack_strengths[opp] += LEARNING_RATE * (opp_goals - opp_xg)\n",
    "    team_defense_strengths[opp] += LEARNING_RATE * (team_xg - team_goals)\n",
    "    \n",
    "relative_attack_strength, relative_defense_strength = [], []\n",
    "expected_goal_team, expected_goal_opp = [], []\n",
    "\n",
    "for index, row in team_matches.iterrows():\n",
    "    ex_goal_team, ex_goal_opp = get_expected_goal(row['Team'], row['Opponent'])\n",
    "    expected_goal_team.append(ex_goal_team)\n",
    "    expected_goal_opp.append(ex_goal_opp)\n",
    "\n",
    "    relative_attack_strength.append(team_attack_strengths[row['Team']] - team_attack_strengths[row['Opponent']])\n",
    "    relative_defense_strength.append(team_defense_strengths[row['Team']] - team_defense_strengths[row['Opponent']])\n",
    "\n",
    "    update_strengths(row['Team'], row['Opponent'], row['GF'],\n",
    "                   row['GA'], row['xG'], row['xGA'])\n",
    "    \n",
    "team_matches['Expected_goal_team'] = expected_goal_team\n",
    "team_matches['Expected_goal_opp'] = expected_goal_opp\n",
    "team_matches['Relative_attack_strength'] = relative_attack_strength\n",
    "team_matches['Relative_defense_strength'] = relative_defense_strength"
   ]
  },
  {
   "cell_type": "code",
   "execution_count": 44,
   "id": "44d69b57",
   "metadata": {},
   "outputs": [],
   "source": [
    "total_goals_mean = (team_matches['GF'].sum() + team_matches['GA'].sum()) / team_matches.shape[0]\n",
    "expected_goals_mean = (team_matches['Expected_goal_team'].sum() + team_matches['Expected_goal_team'].sum()) / team_matches.shape[0]\n",
    "expected_goal_scale = total_goals_mean / expected_goals_mean\n",
    "\n",
    "team_matches['Expected_goal_team'] *= expected_goal_scale\n",
    "team_matches['Expected_goal_opp'] *= expected_goal_scale"
   ]
  },
  {
   "cell_type": "code",
   "execution_count": 45,
   "id": "8ab099ff",
   "metadata": {},
   "outputs": [],
   "source": [
    "import numpy as np\n",
    "from scipy.stats import poisson\n",
    "\n",
    "def match_outcome_probs(lam_team, lam_opp, max_goals=10):\n",
    "    # Scoreline probability matrix\n",
    "    probs = np.zeros((max_goals, max_goals))\n",
    "    for i in range(max_goals):\n",
    "        for j in range(max_goals):\n",
    "            probs[i, j] = poisson.pmf(i, lam_team) * poisson.pmf(j, lam_opp)\n",
    "    \n",
    "    # Probabilities of outcomes\n",
    "    p_team_win = np.sum(np.tril(probs, -1))  # lower triangle, i > j\n",
    "    p_draw     = np.sum(np.diag(probs))      # diagonal, i = j\n",
    "    p_opp_win = np.sum(np.triu(probs, 1))   # upper triangle, i < j\n",
    "    \n",
    "    return p_team_win, p_draw, p_opp_win\n",
    "\n",
    "team_matches[['Predicted_team_win', 'Predicted_team_draw', \n",
    "              'Predicted_team_loss']] = team_matches.apply(lambda row: match_outcome_probs(row[\"Expected_goal_team\"], row[\"Expected_goal_opp\"]), axis=1, result_type='expand')"
   ]
  },
  {
   "cell_type": "code",
   "execution_count": 46,
   "id": "86e4100e",
   "metadata": {},
   "outputs": [],
   "source": [
    "K = 20\n",
    "HOME_ADVANTAGE = 40\n",
    "SCALING = 400\n",
    "\n",
    "team_ratings = defaultdict(lambda: 1500)\n",
    "\n",
    "def get_expected_score(team_rating, opp_rating, venue):\n",
    "    if venue == 'Home':\n",
    "        h = HOME_ADVANTAGE \n",
    "    else:\n",
    "        h = 0\n",
    "    return 1 / (1 + 10 ** (-(team_rating - opp_rating) / SCALING))\n",
    "\n",
    "def goal_diff_multiplier(team_goal, opp_goal):\n",
    "    goal_diff = abs(team_goal - opp_goal)\n",
    "    return np.log((goal_diff + 1) * (2.2 / (goal_diff + 2.2)))\n",
    "\n",
    "def update_ratings(team, opp, team_goal, opp_goal, venue):\n",
    "    if team_goal > opp_goal:\n",
    "        team_result = 1\n",
    "    elif team_goal == opp_goal:\n",
    "        team_result = 0.5\n",
    "    else:\n",
    "        team_result = 0\n",
    "\n",
    "    opp_result = 1 - team_result\n",
    "\n",
    "    team_rating, opp_rating = team_ratings[team], team_ratings[opp]\n",
    "\n",
    "    team_expected_result = get_expected_score(team_rating, opp_rating, venue)\n",
    "    opp_expected_result = 1 - team_expected_result\n",
    "\n",
    "    multiplier = goal_diff_multiplier(team_goal, opp_goal)\n",
    "\n",
    "    team_ratings[team] += K * multiplier * (team_result - team_expected_result)\n",
    "    team_ratings[opp] += K * multiplier * (opp_result - opp_expected_result)\n",
    "\n",
    "ratings = []\n",
    "for index, row in team_matches.iterrows():\n",
    "    ratings.append(team_ratings[row['Team']] - team_ratings[row['Opponent']])\n",
    "    update_ratings(row['Team'], row['Opponent'], row['GF'],\n",
    "                             row['GA'], row['Venue'])\n",
    "    \n",
    "team_matches['Relative_ratings'] = ratings"
   ]
  },
  {
   "cell_type": "code",
   "execution_count": 47,
   "id": "0117e4a3",
   "metadata": {},
   "outputs": [
    {
     "data": {
      "text/html": [
       "<div>\n",
       "<style scoped>\n",
       "    .dataframe tbody tr th:only-of-type {\n",
       "        vertical-align: middle;\n",
       "    }\n",
       "\n",
       "    .dataframe tbody tr th {\n",
       "        vertical-align: top;\n",
       "    }\n",
       "\n",
       "    .dataframe thead th {\n",
       "        text-align: right;\n",
       "    }\n",
       "</style>\n",
       "<table border=\"1\" class=\"dataframe\">\n",
       "  <thead>\n",
       "    <tr style=\"text-align: right;\">\n",
       "      <th></th>\n",
       "      <th>Team</th>\n",
       "      <th>Date</th>\n",
       "      <th>Comp</th>\n",
       "      <th>Round</th>\n",
       "      <th>Venue</th>\n",
       "      <th>GF</th>\n",
       "      <th>GA</th>\n",
       "      <th>Opponent</th>\n",
       "      <th>xG</th>\n",
       "      <th>xGA</th>\n",
       "      <th>...</th>\n",
       "      <th>Team_position</th>\n",
       "      <th>Opp_position</th>\n",
       "      <th>Expected_goal_team</th>\n",
       "      <th>Expected_goal_opp</th>\n",
       "      <th>Relative_attack_strength</th>\n",
       "      <th>Relative_defense_strength</th>\n",
       "      <th>Predicted_team_win</th>\n",
       "      <th>Predicted_team_draw</th>\n",
       "      <th>Predicted_team_loss</th>\n",
       "      <th>Relative_ratings</th>\n",
       "    </tr>\n",
       "  </thead>\n",
       "  <tbody>\n",
       "    <tr>\n",
       "      <th>0</th>\n",
       "      <td>Arsenal</td>\n",
       "      <td>2022-08-05</td>\n",
       "      <td>Premier League</td>\n",
       "      <td>1</td>\n",
       "      <td>Away</td>\n",
       "      <td>2.0</td>\n",
       "      <td>0.0</td>\n",
       "      <td>Crystal Palace</td>\n",
       "      <td>1.0</td>\n",
       "      <td>1.2</td>\n",
       "      <td>...</td>\n",
       "      <td>0.0</td>\n",
       "      <td>0.0</td>\n",
       "      <td>0.917166</td>\n",
       "      <td>0.750912</td>\n",
       "      <td>0.00</td>\n",
       "      <td>0.000</td>\n",
       "      <td>0.375420</td>\n",
       "      <td>0.342659</td>\n",
       "      <td>0.281921</td>\n",
       "      <td>0.000000</td>\n",
       "    </tr>\n",
       "    <tr>\n",
       "      <th>2</th>\n",
       "      <td>Southampton</td>\n",
       "      <td>2022-08-06</td>\n",
       "      <td>Premier League</td>\n",
       "      <td>1</td>\n",
       "      <td>Away</td>\n",
       "      <td>1.0</td>\n",
       "      <td>4.0</td>\n",
       "      <td>Tottenham</td>\n",
       "      <td>0.5</td>\n",
       "      <td>1.5</td>\n",
       "      <td>...</td>\n",
       "      <td>0.0</td>\n",
       "      <td>0.0</td>\n",
       "      <td>0.917166</td>\n",
       "      <td>0.750912</td>\n",
       "      <td>0.00</td>\n",
       "      <td>0.000</td>\n",
       "      <td>0.375420</td>\n",
       "      <td>0.342659</td>\n",
       "      <td>0.281921</td>\n",
       "      <td>0.000000</td>\n",
       "    </tr>\n",
       "    <tr>\n",
       "      <th>3</th>\n",
       "      <td>Aston Villa</td>\n",
       "      <td>2022-08-06</td>\n",
       "      <td>Premier League</td>\n",
       "      <td>1</td>\n",
       "      <td>Away</td>\n",
       "      <td>0.0</td>\n",
       "      <td>2.0</td>\n",
       "      <td>Bournemouth</td>\n",
       "      <td>0.7</td>\n",
       "      <td>0.6</td>\n",
       "      <td>...</td>\n",
       "      <td>0.0</td>\n",
       "      <td>0.0</td>\n",
       "      <td>0.917166</td>\n",
       "      <td>0.750912</td>\n",
       "      <td>0.00</td>\n",
       "      <td>0.000</td>\n",
       "      <td>0.375420</td>\n",
       "      <td>0.342659</td>\n",
       "      <td>0.281921</td>\n",
       "      <td>0.000000</td>\n",
       "    </tr>\n",
       "    <tr>\n",
       "      <th>4</th>\n",
       "      <td>Liverpool</td>\n",
       "      <td>2022-08-06</td>\n",
       "      <td>Premier League</td>\n",
       "      <td>1</td>\n",
       "      <td>Away</td>\n",
       "      <td>2.0</td>\n",
       "      <td>2.0</td>\n",
       "      <td>Fulham</td>\n",
       "      <td>1.2</td>\n",
       "      <td>1.2</td>\n",
       "      <td>...</td>\n",
       "      <td>0.0</td>\n",
       "      <td>0.0</td>\n",
       "      <td>0.917166</td>\n",
       "      <td>0.750912</td>\n",
       "      <td>0.00</td>\n",
       "      <td>0.000</td>\n",
       "      <td>0.375420</td>\n",
       "      <td>0.342659</td>\n",
       "      <td>0.281921</td>\n",
       "      <td>0.000000</td>\n",
       "    </tr>\n",
       "    <tr>\n",
       "      <th>5</th>\n",
       "      <td>Newcastle Utd</td>\n",
       "      <td>2022-08-06</td>\n",
       "      <td>Premier League</td>\n",
       "      <td>1</td>\n",
       "      <td>Home</td>\n",
       "      <td>2.0</td>\n",
       "      <td>0.0</td>\n",
       "      <td>Nott'ham Forest</td>\n",
       "      <td>1.7</td>\n",
       "      <td>0.3</td>\n",
       "      <td>...</td>\n",
       "      <td>0.0</td>\n",
       "      <td>0.0</td>\n",
       "      <td>0.917166</td>\n",
       "      <td>0.750912</td>\n",
       "      <td>0.00</td>\n",
       "      <td>0.000</td>\n",
       "      <td>0.375420</td>\n",
       "      <td>0.342659</td>\n",
       "      <td>0.281921</td>\n",
       "      <td>0.000000</td>\n",
       "    </tr>\n",
       "    <tr>\n",
       "      <th>...</th>\n",
       "      <td>...</td>\n",
       "      <td>...</td>\n",
       "      <td>...</td>\n",
       "      <td>...</td>\n",
       "      <td>...</td>\n",
       "      <td>...</td>\n",
       "      <td>...</td>\n",
       "      <td>...</td>\n",
       "      <td>...</td>\n",
       "      <td>...</td>\n",
       "      <td>...</td>\n",
       "      <td>...</td>\n",
       "      <td>...</td>\n",
       "      <td>...</td>\n",
       "      <td>...</td>\n",
       "      <td>...</td>\n",
       "      <td>...</td>\n",
       "      <td>...</td>\n",
       "      <td>...</td>\n",
       "      <td>...</td>\n",
       "      <td>...</td>\n",
       "    </tr>\n",
       "    <tr>\n",
       "      <th>2346</th>\n",
       "      <td>Fulham</td>\n",
       "      <td>2025-09-13</td>\n",
       "      <td>Premier League</td>\n",
       "      <td>4</td>\n",
       "      <td>NaN</td>\n",
       "      <td>NaN</td>\n",
       "      <td>NaN</td>\n",
       "      <td>Leeds United</td>\n",
       "      <td>NaN</td>\n",
       "      <td>NaN</td>\n",
       "      <td>...</td>\n",
       "      <td>18.0</td>\n",
       "      <td>12.0</td>\n",
       "      <td>3.813445</td>\n",
       "      <td>0.495857</td>\n",
       "      <td>0.89</td>\n",
       "      <td>0.950</td>\n",
       "      <td>0.921580</td>\n",
       "      <td>0.053726</td>\n",
       "      <td>0.018756</td>\n",
       "      <td>48.780529</td>\n",
       "    </tr>\n",
       "    <tr>\n",
       "      <th>2350</th>\n",
       "      <td>Brentford</td>\n",
       "      <td>2025-09-13</td>\n",
       "      <td>Premier League</td>\n",
       "      <td>4</td>\n",
       "      <td>NaN</td>\n",
       "      <td>NaN</td>\n",
       "      <td>NaN</td>\n",
       "      <td>Chelsea</td>\n",
       "      <td>NaN</td>\n",
       "      <td>NaN</td>\n",
       "      <td>...</td>\n",
       "      <td>15.0</td>\n",
       "      <td>2.0</td>\n",
       "      <td>0.885620</td>\n",
       "      <td>0.602621</td>\n",
       "      <td>0.89</td>\n",
       "      <td>-0.705</td>\n",
       "      <td>0.401196</td>\n",
       "      <td>0.363323</td>\n",
       "      <td>0.235481</td>\n",
       "      <td>-54.816020</td>\n",
       "    </tr>\n",
       "    <tr>\n",
       "      <th>2352</th>\n",
       "      <td>Newcastle Utd</td>\n",
       "      <td>2025-09-13</td>\n",
       "      <td>Premier League</td>\n",
       "      <td>4</td>\n",
       "      <td>NaN</td>\n",
       "      <td>NaN</td>\n",
       "      <td>NaN</td>\n",
       "      <td>Wolves</td>\n",
       "      <td>NaN</td>\n",
       "      <td>NaN</td>\n",
       "      <td>...</td>\n",
       "      <td>17.0</td>\n",
       "      <td>20.0</td>\n",
       "      <td>2.103354</td>\n",
       "      <td>0.908040</td>\n",
       "      <td>0.05</td>\n",
       "      <td>0.590</td>\n",
       "      <td>0.648855</td>\n",
       "      <td>0.198880</td>\n",
       "      <td>0.152195</td>\n",
       "      <td>129.672950</td>\n",
       "    </tr>\n",
       "    <tr>\n",
       "      <th>2356</th>\n",
       "      <td>Burnley</td>\n",
       "      <td>2025-09-14</td>\n",
       "      <td>Premier League</td>\n",
       "      <td>4</td>\n",
       "      <td>NaN</td>\n",
       "      <td>NaN</td>\n",
       "      <td>NaN</td>\n",
       "      <td>Liverpool</td>\n",
       "      <td>NaN</td>\n",
       "      <td>NaN</td>\n",
       "      <td>...</td>\n",
       "      <td>14.0</td>\n",
       "      <td>1.0</td>\n",
       "      <td>0.750912</td>\n",
       "      <td>1.810373</td>\n",
       "      <td>-0.45</td>\n",
       "      <td>-0.630</td>\n",
       "      <td>0.149984</td>\n",
       "      <td>0.223702</td>\n",
       "      <td>0.626293</td>\n",
       "      <td>-224.206585</td>\n",
       "    </tr>\n",
       "    <tr>\n",
       "      <th>2358</th>\n",
       "      <td>Manchester City</td>\n",
       "      <td>2025-09-14</td>\n",
       "      <td>Premier League</td>\n",
       "      <td>4</td>\n",
       "      <td>NaN</td>\n",
       "      <td>NaN</td>\n",
       "      <td>NaN</td>\n",
       "      <td>Manchester Utd</td>\n",
       "      <td>NaN</td>\n",
       "      <td>NaN</td>\n",
       "      <td>...</td>\n",
       "      <td>13.0</td>\n",
       "      <td>9.0</td>\n",
       "      <td>2.031010</td>\n",
       "      <td>0.218391</td>\n",
       "      <td>2.72</td>\n",
       "      <td>-0.690</td>\n",
       "      <td>0.810601</td>\n",
       "      <td>0.157691</td>\n",
       "      <td>0.031656</td>\n",
       "      <td>153.293583</td>\n",
       "    </tr>\n",
       "  </tbody>\n",
       "</table>\n",
       "<p>1180 rows × 169 columns</p>\n",
       "</div>"
      ],
      "text/plain": [
       "                 Team       Date            Comp  Round Venue   GF   GA  \\\n",
       "0             Arsenal 2022-08-05  Premier League      1  Away  2.0  0.0   \n",
       "2         Southampton 2022-08-06  Premier League      1  Away  1.0  4.0   \n",
       "3         Aston Villa 2022-08-06  Premier League      1  Away  0.0  2.0   \n",
       "4           Liverpool 2022-08-06  Premier League      1  Away  2.0  2.0   \n",
       "5       Newcastle Utd 2022-08-06  Premier League      1  Home  2.0  0.0   \n",
       "...               ...        ...             ...    ...   ...  ...  ...   \n",
       "2346           Fulham 2025-09-13  Premier League      4   NaN  NaN  NaN   \n",
       "2350        Brentford 2025-09-13  Premier League      4   NaN  NaN  NaN   \n",
       "2352    Newcastle Utd 2025-09-13  Premier League      4   NaN  NaN  NaN   \n",
       "2356          Burnley 2025-09-14  Premier League      4   NaN  NaN  NaN   \n",
       "2358  Manchester City 2025-09-14  Premier League      4   NaN  NaN  NaN   \n",
       "\n",
       "             Opponent   xG  xGA  ...  Team_position  Opp_position  \\\n",
       "0      Crystal Palace  1.0  1.2  ...            0.0           0.0   \n",
       "2           Tottenham  0.5  1.5  ...            0.0           0.0   \n",
       "3         Bournemouth  0.7  0.6  ...            0.0           0.0   \n",
       "4              Fulham  1.2  1.2  ...            0.0           0.0   \n",
       "5     Nott'ham Forest  1.7  0.3  ...            0.0           0.0   \n",
       "...               ...  ...  ...  ...            ...           ...   \n",
       "2346     Leeds United  NaN  NaN  ...           18.0          12.0   \n",
       "2350          Chelsea  NaN  NaN  ...           15.0           2.0   \n",
       "2352           Wolves  NaN  NaN  ...           17.0          20.0   \n",
       "2356        Liverpool  NaN  NaN  ...           14.0           1.0   \n",
       "2358   Manchester Utd  NaN  NaN  ...           13.0           9.0   \n",
       "\n",
       "      Expected_goal_team  Expected_goal_opp  Relative_attack_strength  \\\n",
       "0               0.917166           0.750912                      0.00   \n",
       "2               0.917166           0.750912                      0.00   \n",
       "3               0.917166           0.750912                      0.00   \n",
       "4               0.917166           0.750912                      0.00   \n",
       "5               0.917166           0.750912                      0.00   \n",
       "...                  ...                ...                       ...   \n",
       "2346            3.813445           0.495857                      0.89   \n",
       "2350            0.885620           0.602621                      0.89   \n",
       "2352            2.103354           0.908040                      0.05   \n",
       "2356            0.750912           1.810373                     -0.45   \n",
       "2358            2.031010           0.218391                      2.72   \n",
       "\n",
       "      Relative_defense_strength  Predicted_team_win  Predicted_team_draw  \\\n",
       "0                         0.000            0.375420             0.342659   \n",
       "2                         0.000            0.375420             0.342659   \n",
       "3                         0.000            0.375420             0.342659   \n",
       "4                         0.000            0.375420             0.342659   \n",
       "5                         0.000            0.375420             0.342659   \n",
       "...                         ...                 ...                  ...   \n",
       "2346                      0.950            0.921580             0.053726   \n",
       "2350                     -0.705            0.401196             0.363323   \n",
       "2352                      0.590            0.648855             0.198880   \n",
       "2356                     -0.630            0.149984             0.223702   \n",
       "2358                     -0.690            0.810601             0.157691   \n",
       "\n",
       "      Predicted_team_loss  Relative_ratings  \n",
       "0                0.281921          0.000000  \n",
       "2                0.281921          0.000000  \n",
       "3                0.281921          0.000000  \n",
       "4                0.281921          0.000000  \n",
       "5                0.281921          0.000000  \n",
       "...                   ...               ...  \n",
       "2346             0.018756         48.780529  \n",
       "2350             0.235481        -54.816020  \n",
       "2352             0.152195        129.672950  \n",
       "2356             0.626293       -224.206585  \n",
       "2358             0.031656        153.293583  \n",
       "\n",
       "[1180 rows x 169 columns]"
      ]
     },
     "execution_count": 47,
     "metadata": {},
     "output_type": "execute_result"
    }
   ],
   "source": [
    "team_matches"
   ]
  },
  {
   "cell_type": "code",
   "execution_count": 48,
   "id": "40caabe4",
   "metadata": {},
   "outputs": [
    {
     "data": {
      "text/plain": [
       "Target\n",
       "2.0    468\n",
       "1.0    434\n",
       "0.0    268\n",
       "Name: count, dtype: int64"
      ]
     },
     "execution_count": 48,
     "metadata": {},
     "output_type": "execute_result"
    }
   ],
   "source": [
    "team_matches['Target'].value_counts()"
   ]
  },
  {
   "cell_type": "code",
   "execution_count": 49,
   "id": "3178ee26",
   "metadata": {},
   "outputs": [],
   "source": [
    "def get_relative_feature(cols):\n",
    "    relative_cols = []\n",
    "    for col in cols:\n",
    "        team_matches[f'Relative_{col}'] = team_matches[col] - team_matches[f'Opp_{col}']\n",
    "        relative_cols.append(f'Relative_{col}')\n",
    "    return relative_cols"
   ]
  },
  {
   "cell_type": "code",
   "execution_count": 50,
   "id": "bf3974a2",
   "metadata": {},
   "outputs": [],
   "source": [
    "relative_cols = get_relative_feature(league_ravg_new_cols)\n",
    "relative_cols.extend(get_relative_feature(last_ravg_new_cols))\n",
    "team_matches['Relative_pos'] = team_matches['Team_position'] - team_matches['Opp_position']\n",
    "team_matches['Relative_rolling_rests_1'] = team_matches['rolling_rests_1'] - team_matches['Opp_rolling_rests_1']\n",
    "team_matches['Relative_rolling_rests_3'] = team_matches['rolling_rests_3'] - team_matches['Opp_rolling_rests_3']\n",
    "team_matches['Relative_leaguenum_wins_rolling'] = team_matches['leaguenum_wins_rolling'] - team_matches['Opp_leaguenum_wins_rolling']\n"
   ]
  },
  {
   "cell_type": "code",
   "execution_count": 51,
   "id": "e6276c7a",
   "metadata": {},
   "outputs": [],
   "source": [
    "columns_to_drop = ['Sh', 'SoT', 'Dist', 'FK', 'PK', 'PKatt', 'CrdY', 'CrdR', \n",
    "                   '2CrdY', 'Fls', 'Fld', 'Off', 'Crs', 'Int', 'TklW', 'Won%', \n",
    "                   'SCA', 'GCA', 'Venue']\n",
    "opp_columns_to_drop = ['Opp_' + column for column in columns_to_drop]\n",
    "team_matches = team_matches.drop(columns=opp_columns_to_drop)\n",
    "columns_to_drop.extend(['Team', 'Comp', 'Round', 'GF', 'GA', \n",
    "                        'Opponent', 'xG', 'xGA', 'days_diff', 'is_win'])\n",
    "team_matches = team_matches.drop(columns=columns_to_drop) \n"
   ]
  },
  {
   "cell_type": "code",
   "execution_count": 52,
   "id": "601767e6",
   "metadata": {},
   "outputs": [],
   "source": [
    "future_matches = team_matches[team_matches['Target'].isna()]\n",
    "past_matches = team_matches[team_matches['Target'].notna()]"
   ]
  },
  {
   "cell_type": "code",
   "execution_count": 53,
   "id": "64bf84bf",
   "metadata": {},
   "outputs": [
    {
     "name": "stdout",
     "output_type": "stream",
     "text": [
      "(10, 170)\n"
     ]
    },
    {
     "data": {
      "text/plain": [
       "(1170, 170)"
      ]
     },
     "execution_count": 53,
     "metadata": {},
     "output_type": "execute_result"
    }
   ],
   "source": [
    "print(future_matches.shape)\n",
    "past_matches.shape"
   ]
  },
  {
   "cell_type": "code",
   "execution_count": 54,
   "id": "563c52eb",
   "metadata": {},
   "outputs": [
    {
     "data": {
      "text/plain": [
       "Date   Poss   Season  Team_code  Opp_code  Venue_code  Hour   Day_code  Target  rolling_rests_3  GFleague_rolling  GAleague_rolling  Shleague_rolling  SoTleague_rolling  Distleague_rolling  FKleague_rolling  PKleague_rolling  PKattleague_rolling  CrdYleague_rolling  CrdRleague_rolling  2CrdYleague_rolling  Flsleague_rolling  Fldleague_rolling  Offleague_rolling  Crsleague_rolling  Intleague_rolling  TklWleague_rolling  Won%league_rolling  SCAleague_rolling  GCAleague_rolling  xGleague_rolling  xGAleague_rolling  leaguenum_wins_rolling  Opp_Poss  Opp_rolling_rests_3  Opp_GFleague_rolling  Opp_GAleague_rolling  Opp_Shleague_rolling  Opp_SoTleague_rolling  Opp_Distleague_rolling  Opp_FKleague_rolling  Opp_PKleague_rolling  Opp_PKattleague_rolling  Opp_CrdYleague_rolling  Opp_CrdRleague_rolling  Opp_2CrdYleague_rolling  Opp_Flsleague_rolling  Opp_Fldleague_rolling  Opp_Offleague_rolling  Opp_Crsleague_rolling  Opp_Intleague_rolling  Opp_TklWleague_rolling  Opp_Won%league_rolling  Opp_SCAleague_rolling  Opp_GCAleague_rolling  Opp_xGleague_rolling  Opp_xGAleague_rolling  Opp_leaguenum_wins_rolling  GFlast_rolling  GAlast_rolling  Shlast_rolling  SoTlast_rolling  Distlast_rolling  FKlast_rolling  PKlast_rolling  PKattlast_rolling  CrdYlast_rolling  CrdRlast_rolling  2CrdYlast_rolling  Flslast_rolling  Fldlast_rolling  Offlast_rolling  Crslast_rolling  Intlast_rolling  TklWlast_rolling  Won%last_rolling  SCAlast_rolling  GCAlast_rolling  xGlast_rolling  xGAlast_rolling  Targetlast_rolling  Opp_GFlast_rolling  Opp_GAlast_rolling  Opp_Shlast_rolling  Opp_SoTlast_rolling  Opp_Distlast_rolling  Opp_FKlast_rolling  Opp_PKlast_rolling  Opp_PKattlast_rolling  Opp_CrdYlast_rolling  Opp_CrdRlast_rolling  Opp_2CrdYlast_rolling  Opp_Flslast_rolling  Opp_Fldlast_rolling  Opp_Offlast_rolling  Opp_Crslast_rolling  Opp_Intlast_rolling  Opp_TklWlast_rolling  Opp_Won%last_rolling  Opp_SCAlast_rolling  Opp_GCAlast_rolling  Opp_xGlast_rolling  Opp_xGAlast_rolling  Opp_Targetlast_rolling  rolling_rests_1  Opp_rolling_rests_1  xGhth_rolling  xG.1hth_rolling  GFhth_rolling  GAhth_rolling  hthnum_wins_rolling  Team_position  Opp_position  Expected_goal_team  Expected_goal_opp  Relative_attack_strength  Relative_defense_strength  Predicted_team_win  Predicted_team_draw  Predicted_team_loss  Relative_ratings  Relative_GFleague_rolling  Relative_GAleague_rolling  Relative_Shleague_rolling  Relative_SoTleague_rolling  Relative_Distleague_rolling  Relative_FKleague_rolling  Relative_PKleague_rolling  Relative_PKattleague_rolling  Relative_CrdYleague_rolling  Relative_CrdRleague_rolling  Relative_2CrdYleague_rolling  Relative_Flsleague_rolling  Relative_Fldleague_rolling  Relative_Offleague_rolling  Relative_Crsleague_rolling  Relative_Intleague_rolling  Relative_TklWleague_rolling  Relative_Won%league_rolling  Relative_SCAleague_rolling  Relative_GCAleague_rolling  Relative_xGleague_rolling  Relative_xGAleague_rolling  Relative_GFlast_rolling  Relative_GAlast_rolling  Relative_Shlast_rolling  Relative_SoTlast_rolling  Relative_Distlast_rolling  Relative_FKlast_rolling  Relative_PKlast_rolling  Relative_PKattlast_rolling  Relative_CrdYlast_rolling  Relative_CrdRlast_rolling  Relative_2CrdYlast_rolling  Relative_Flslast_rolling  Relative_Fldlast_rolling  Relative_Offlast_rolling  Relative_Crslast_rolling  Relative_Intlast_rolling  Relative_TklWlast_rolling  Relative_Won%last_rolling  Relative_SCAlast_rolling  Relative_GCAlast_rolling  Relative_xGlast_rolling  Relative_xGAlast_rolling  Relative_Targetlast_rolling  Relative_pos  Relative_rolling_rests_1  Relative_rolling_rests_3  Relative_leaguenum_wins_rolling\n",
       "False  False  False   False      False     False       False  False     False   False            False             False             False             False              False               False             False             False                False               False               False                False              False              False              False              False              False               False               False              False              False             False              False                   False     False                False                 False                 False                 False                  False                   False                 False                 False                    False                   False                   False                    False                  False                  False                  False                  False                  False                   False                   False                  False                  False                 False                  False                       False           False           False           False            False             False           False           False              False             False             False              False            False            False            False            False            False             False             False            False            False           False            False               False               False               False               False                False                 False               False               False                  False                 False                 False                  False                False                False                False                False                False                 False                 False                False                False               False                False                   False            False                False          False            False          False          False                False          False         False               False              False                     False                      False               False                False                False             False                      False                      False                      False                       False                        False                      False                      False                         False                        False                        False                         False                       False                       False                       False                       False                       False                        False                        False                       False                       False                      False                       False                    False                    False                    False                     False                      False                    False                    False                       False                      False                      False                       False                     False                     False                     False                     False                     False                      False                      False                     False                     False                    False                     False                        False         False                     False                     False                              1170\n",
       "Name: count, dtype: int64"
      ]
     },
     "execution_count": 54,
     "metadata": {},
     "output_type": "execute_result"
    }
   ],
   "source": [
    "past_matches.isnull().value_counts()"
   ]
  },
  {
   "cell_type": "code",
   "execution_count": 55,
   "id": "50d21daf",
   "metadata": {},
   "outputs": [
    {
     "data": {
      "text/plain": [
       "Date   Poss  Season  Team_code  Opp_code  Venue_code  Hour   Day_code  Target  rolling_rests_3  GFleague_rolling  GAleague_rolling  Shleague_rolling  SoTleague_rolling  Distleague_rolling  FKleague_rolling  PKleague_rolling  PKattleague_rolling  CrdYleague_rolling  CrdRleague_rolling  2CrdYleague_rolling  Flsleague_rolling  Fldleague_rolling  Offleague_rolling  Crsleague_rolling  Intleague_rolling  TklWleague_rolling  Won%league_rolling  SCAleague_rolling  GCAleague_rolling  xGleague_rolling  xGAleague_rolling  leaguenum_wins_rolling  Opp_Poss  Opp_rolling_rests_3  Opp_GFleague_rolling  Opp_GAleague_rolling  Opp_Shleague_rolling  Opp_SoTleague_rolling  Opp_Distleague_rolling  Opp_FKleague_rolling  Opp_PKleague_rolling  Opp_PKattleague_rolling  Opp_CrdYleague_rolling  Opp_CrdRleague_rolling  Opp_2CrdYleague_rolling  Opp_Flsleague_rolling  Opp_Fldleague_rolling  Opp_Offleague_rolling  Opp_Crsleague_rolling  Opp_Intleague_rolling  Opp_TklWleague_rolling  Opp_Won%league_rolling  Opp_SCAleague_rolling  Opp_GCAleague_rolling  Opp_xGleague_rolling  Opp_xGAleague_rolling  Opp_leaguenum_wins_rolling  GFlast_rolling  GAlast_rolling  Shlast_rolling  SoTlast_rolling  Distlast_rolling  FKlast_rolling  PKlast_rolling  PKattlast_rolling  CrdYlast_rolling  CrdRlast_rolling  2CrdYlast_rolling  Flslast_rolling  Fldlast_rolling  Offlast_rolling  Crslast_rolling  Intlast_rolling  TklWlast_rolling  Won%last_rolling  SCAlast_rolling  GCAlast_rolling  xGlast_rolling  xGAlast_rolling  Targetlast_rolling  Opp_GFlast_rolling  Opp_GAlast_rolling  Opp_Shlast_rolling  Opp_SoTlast_rolling  Opp_Distlast_rolling  Opp_FKlast_rolling  Opp_PKlast_rolling  Opp_PKattlast_rolling  Opp_CrdYlast_rolling  Opp_CrdRlast_rolling  Opp_2CrdYlast_rolling  Opp_Flslast_rolling  Opp_Fldlast_rolling  Opp_Offlast_rolling  Opp_Crslast_rolling  Opp_Intlast_rolling  Opp_TklWlast_rolling  Opp_Won%last_rolling  Opp_SCAlast_rolling  Opp_GCAlast_rolling  Opp_xGlast_rolling  Opp_xGAlast_rolling  Opp_Targetlast_rolling  rolling_rests_1  Opp_rolling_rests_1  xGhth_rolling  xG.1hth_rolling  GFhth_rolling  GAhth_rolling  hthnum_wins_rolling  Team_position  Opp_position  Expected_goal_team  Expected_goal_opp  Relative_attack_strength  Relative_defense_strength  Predicted_team_win  Predicted_team_draw  Predicted_team_loss  Relative_ratings  Relative_GFleague_rolling  Relative_GAleague_rolling  Relative_Shleague_rolling  Relative_SoTleague_rolling  Relative_Distleague_rolling  Relative_FKleague_rolling  Relative_PKleague_rolling  Relative_PKattleague_rolling  Relative_CrdYleague_rolling  Relative_CrdRleague_rolling  Relative_2CrdYleague_rolling  Relative_Flsleague_rolling  Relative_Fldleague_rolling  Relative_Offleague_rolling  Relative_Crsleague_rolling  Relative_Intleague_rolling  Relative_TklWleague_rolling  Relative_Won%league_rolling  Relative_SCAleague_rolling  Relative_GCAleague_rolling  Relative_xGleague_rolling  Relative_xGAleague_rolling  Relative_GFlast_rolling  Relative_GAlast_rolling  Relative_Shlast_rolling  Relative_SoTlast_rolling  Relative_Distlast_rolling  Relative_FKlast_rolling  Relative_PKlast_rolling  Relative_PKattlast_rolling  Relative_CrdYlast_rolling  Relative_CrdRlast_rolling  Relative_2CrdYlast_rolling  Relative_Flslast_rolling  Relative_Fldlast_rolling  Relative_Offlast_rolling  Relative_Crslast_rolling  Relative_Intlast_rolling  Relative_TklWlast_rolling  Relative_Won%last_rolling  Relative_SCAlast_rolling  Relative_GCAlast_rolling  Relative_xGlast_rolling  Relative_xGAlast_rolling  Relative_Targetlast_rolling  Relative_pos  Relative_rolling_rests_1  Relative_rolling_rests_3  Relative_leaguenum_wins_rolling\n",
       "False  True  False   False      False     False       False  False     True    False            False             False             False             False              False               False             False             False                False               False               False                False              False              False              False              False              False               False               False              False              False             False              False                   True      False                False                 False                 False                 False                  False                   False                 False                 False                    False                   False                   False                    False                  False                  False                  False                  False                  False                   False                   False                  False                  False                 False                  False                       False           False           False           False            False             False           False           False              False             False             False              False            False            False            False            False            False             False             False            False            False           False            False               False               False               False               False                False                 False               False               False                  False                 False                 False                  False                False                False                False                False                False                 False                 False                False                False               False                False                   False            False                False          False            False          False          False                False          False         False               False              False                     False                      False               False                False                False             False                      False                      False                      False                       False                        False                      False                      False                         False                        False                        False                         False                       False                       False                       False                       False                       False                        False                        False                       False                       False                      False                       False                    False                    False                    False                     False                      False                    False                    False                       False                      False                      False                       False                     False                     False                     False                     False                     False                      False                      False                     False                     False                    False                     False                        False         False                     False                     False                              10\n",
       "Name: count, dtype: int64"
      ]
     },
     "execution_count": 55,
     "metadata": {},
     "output_type": "execute_result"
    }
   ],
   "source": [
    "future_matches.isnull().value_counts()"
   ]
  },
  {
   "cell_type": "code",
   "execution_count": 56,
   "id": "d1541add",
   "metadata": {},
   "outputs": [
    {
     "data": {
      "image/png": "[encoded data removed]",
      "text/plain": [
       "<Figure size 800x900 with 2 Axes>"
      ]
     },
     "metadata": {},
     "output_type": "display_data"
    }
   ],
   "source": [
    "train = past_matches[past_matches['Season'] <= SEASON_SPLIT]\n",
    "data = train.drop(columns=['Date'])\n",
    "\n",
    "# compute the correlation matrix\n",
    "corr_mat = data.corr()\n",
    "\n",
    "# mask out upper triangle (correlation matrices are symmetric)\n",
    "mask = np.zeros_like(corr_mat, dtype=bool)\n",
    "mask[np.triu_indices_from(mask)] = True\n",
    "\n",
    "\n",
    "f, ax = plt.subplots(figsize=(8, 9))\n",
    "# generate custom colormap\n",
    "cmap = sns.diverging_palette(220, 10, as_cmap=True)   \n",
    "sns.heatmap(corr_mat, mask=mask, cmap=cmap, vmax=.3, center=0,\n",
    "            square=True, linewidths=.5, cbar_kws={\"shrink\": .5})\n",
    "\n",
    "plt.title('Correlation between features and target variable')\n",
    "plt.show()"
   ]
  },
  {
   "cell_type": "markdown",
   "id": "423bea83",
   "metadata": {},
   "source": [
    "## Creating models and training"
   ]
  },
  {
   "cell_type": "code",
   "execution_count": 57,
   "id": "fac93b99",
   "metadata": {},
   "outputs": [],
   "source": [
    "predictors = ['Team_code', 'Opp_code', 'Venue_code', 'Hour', 'Day_code']\n",
    "additional_predictors = ['rolling_rests_1', 'rolling_rests_3',\n",
    "                           'leaguenum_wins_rolling']\n",
    "# predictors = predictors + league_ravg_new_cols + last_ravg_new_cols + hth_ravg_new_cols + additional_predictors\n",
    "# predictors = predictors + ['Opp_' + column for column in league_ravg_new_cols]\n",
    "# predictors = predictors + ['Opp_' + column for column in last_ravg_new_cols]\n",
    "# predictors = predictors + ['Opp_' + column for column in additional_predictors]\n",
    "predictors = predictors + ['Relative_pos', 'hthnum_wins_rolling',\n",
    "                           'Relative_rolling_rests_1', 'Relative_rolling_rests_3',\n",
    "                           'Relative_leaguenum_wins_rolling', 'Relative_attack_strength',\n",
    "                           'Relative_defense_strength', 'Predicted_team_win', 'Predicted_team_draw', \n",
    "                            'Predicted_team_loss', 'Relative_ratings']\n",
    "predictors = predictors + relative_cols\n",
    "\n",
    "train = past_matches[past_matches['Season'] <= SEASON_SPLIT]\n",
    "val = train[train['Date'] >= '2024-03-14']\n",
    "train = train[train['Date'] < '2024-03-14']\n",
    "test = past_matches[past_matches['Season'] > SEASON_SPLIT]\n",
    "train_X = train[predictors]\n",
    "val_X = val[predictors]\n",
    "test_X = test[predictors]\n",
    "train_Y = train['Target']\n",
    "val_Y = val['Target']\n",
    "test_Y = test['Target']"
   ]
  },
  {
   "cell_type": "code",
   "execution_count": 58,
   "id": "c59a041e",
   "metadata": {},
   "outputs": [
    {
     "name": "stdout",
     "output_type": "stream",
     "text": [
      "{'max_depth': np.int64(7), 'min_samples_split': np.int64(3), 'n_estimators': np.int64(105)}\n",
      "              precision    recall  f1-score   support\n",
      "\n",
      "         0.0       0.00      0.00      0.00        99\n",
      "         1.0       0.53      0.62      0.57       152\n",
      "         2.0       0.48      0.70      0.57       159\n",
      "\n",
      "    accuracy                           0.50       410\n",
      "   macro avg       0.34      0.44      0.38       410\n",
      "weighted avg       0.38      0.50      0.43       410\n",
      "\n"
     ]
    }
   ],
   "source": [
    "rf_model = RandomForestClassifier(random_state=42)\n",
    "param_grid = {\n",
    "    'n_estimators': np.arange(100, 200, 5), \n",
    "    'min_samples_split': np.arange(2,10),\n",
    "    'max_depth': np.arange(2,10)\n",
    "}\n",
    "\n",
    "tscv = TimeSeriesSplit(n_splits=5)\n",
    "\n",
    "clf = GridSearchCV(estimator=rf_model, param_grid=param_grid, scoring='accuracy', n_jobs=-1, cv=tscv)\n",
    "clf.fit(train_X, train_Y)\n",
    "refined_rf_model = clf.best_estimator_\n",
    "preds = refined_rf_model.predict(test_X)\n",
    "print(clf.best_params_)\n",
    "print(classification_report(test_Y, preds, zero_division=0))"
   ]
  },
  {
   "cell_type": "markdown",
   "id": "ebc982f9",
   "metadata": {},
   "source": [
    "0.0       0.00      0.00      0.00        99\n",
    "         1.0       0.53      0.58      0.55       152\n",
    "         2.0       0.48      0.74      0.58       159\n",
    "\n",
    "    accuracy                           0.50       410\n",
    "   macro avg       0.34      0.44      0.38       410\n",
    "weighted avg       0.38      0.50      0.43       410"
   ]
  },
  {
   "cell_type": "code",
   "execution_count": 59,
   "id": "c5dc7ea2",
   "metadata": {},
   "outputs": [
    {
     "data": {
      "text/plain": [
       "Relative_pos                    0.050413\n",
       "Relative_ratings                0.044211\n",
       "Relative_SoTleague_rolling      0.033995\n",
       "Relative_SCAleague_rolling      0.033713\n",
       "Relative_Shleague_rolling       0.031876\n",
       "                                  ...   \n",
       "Relative_PKattlast_rolling      0.002641\n",
       "Relative_PKlast_rolling         0.002616\n",
       "Relative_2CrdYleague_rolling    0.002160\n",
       "Relative_CrdRlast_rolling       0.001797\n",
       "Relative_2CrdYlast_rolling      0.001676\n",
       "Length: 61, dtype: float64"
      ]
     },
     "execution_count": 59,
     "metadata": {},
     "output_type": "execute_result"
    }
   ],
   "source": [
    "feature_importance = pd.Series(refined_rf_model.feature_importances_, index=train_X.columns).sort_values(ascending=False)\n",
    "feature_importance"
   ]
  },
  {
   "cell_type": "code",
   "execution_count": 60,
   "id": "c204d22e",
   "metadata": {},
   "outputs": [
    {
     "name": "stdout",
     "output_type": "stream",
     "text": [
      "34\n"
     ]
    }
   ],
   "source": [
    "THRESHOLD = 0.015\n",
    "selected_features = feature_importance[feature_importance >= THRESHOLD].index\n",
    "print(len(selected_features))\n",
    "train_X_selected = train_X[selected_features]\n",
    "test_X_selected = test_X[selected_features]"
   ]
  },
  {
   "cell_type": "code",
   "execution_count": 61,
   "id": "770d44c9",
   "metadata": {},
   "outputs": [
    {
     "name": "stdout",
     "output_type": "stream",
     "text": [
      "                        feature  importance_mean  importance_std\n",
      "15             Relative_ratings         0.055446        0.014818\n",
      "5                  Relative_pos         0.039604        0.017149\n",
      "32  Relative_TklWleague_rolling         0.017822        0.003960\n",
      "56     Relative_SCAlast_rolling         0.014851        0.009128\n",
      "34   Relative_SCAleague_rolling         0.012871        0.017178\n",
      "2                    Venue_code         0.011881        0.012366\n",
      "4                      Day_code         0.011881        0.003960\n",
      "1                      Opp_code         0.010891        0.008224\n"
     ]
    }
   ],
   "source": [
    "result = permutation_importance(refined_rf_model, val_X, val_Y, n_repeats=10, random_state=42)\n",
    "\n",
    "# Convert to DataFrame\n",
    "importances_df = pd.DataFrame({\n",
    "    \"feature\": val_X.columns,\n",
    "    \"importance_mean\": result.importances_mean,\n",
    "    \"importance_std\": result.importances_std\n",
    "}).sort_values(\"importance_mean\", ascending=False)\n",
    "\n",
    "non_zero_importances = importances_df[importances_df['importance_mean'] > 0.01]\n",
    "\n",
    "print(non_zero_importances)"
   ]
  },
  {
   "cell_type": "code",
   "execution_count": 62,
   "id": "c0aa5267",
   "metadata": {},
   "outputs": [],
   "source": [
    "features = non_zero_importances['feature']\n",
    "train_X_selected2 = train_X[features]\n",
    "test_X_selected2 = test_X[features]"
   ]
  },
  {
   "cell_type": "code",
   "execution_count": 63,
   "id": "4cea1ef9",
   "metadata": {},
   "outputs": [],
   "source": [
    "scaler = StandardScaler()\n",
    "train_X_scaled = scaler.fit_transform(train_X_selected)\n",
    "test_X_scaled = scaler.fit_transform(test_X_selected)\n",
    "train_X_scaled2 = scaler.fit_transform(train_X_selected2)\n",
    "test_X_scaled2 = scaler.fit_transform(test_X_selected2)"
   ]
  },
  {
   "cell_type": "code",
   "execution_count": 64,
   "id": "62e15a02",
   "metadata": {},
   "outputs": [
    {
     "name": "stdout",
     "output_type": "stream",
     "text": [
      "{'max_depth': np.int64(3), 'min_samples_split': np.int64(9), 'n_estimators': np.int64(165)}\n",
      "              precision    recall  f1-score   support\n",
      "\n",
      "         0.0       0.00      0.00      0.00        99\n",
      "         1.0       0.53      0.64      0.58       152\n",
      "         2.0       0.49      0.70      0.58       159\n",
      "\n",
      "    accuracy                           0.51       410\n",
      "   macro avg       0.34      0.45      0.39       410\n",
      "weighted avg       0.39      0.51      0.44       410\n",
      "\n"
     ]
    }
   ],
   "source": [
    "rf_model = RandomForestClassifier(random_state=42)\n",
    "param_grid = {\n",
    "    'n_estimators': np.arange(100, 200, 5), \n",
    "    'min_samples_split': np.arange(2,10),\n",
    "    'max_depth': np.arange(2,10)\n",
    "}\n",
    "\n",
    "tscv = TimeSeriesSplit(n_splits=5)\n",
    "\n",
    "clf = GridSearchCV(estimator=rf_model, param_grid=param_grid, scoring='accuracy', n_jobs=-1, cv=tscv)\n",
    "clf.fit(train_X_scaled, train_Y)\n",
    "refined_rf_model = clf.best_estimator_\n",
    "preds = refined_rf_model.predict(test_X_scaled)\n",
    "print(clf.best_params_)\n",
    "print(classification_report(test_Y, preds, zero_division=0))"
   ]
  },
  {
   "cell_type": "markdown",
   "id": "4c9efdb8",
   "metadata": {},
   "source": [
    "0.0       0.00      0.00      0.00        99\n",
    "         1.0       0.53      0.65      0.59       152\n",
    "         2.0       0.51      0.72      0.60       159\n",
    "\n",
    "    accuracy                           0.52       410\n",
    "   macro avg       0.35      0.46      0.39       410\n",
    "weighted avg       0.39      0.52      0.45       410"
   ]
  },
  {
   "cell_type": "code",
   "execution_count": 65,
   "id": "77b68748",
   "metadata": {},
   "outputs": [
    {
     "name": "stdout",
     "output_type": "stream",
     "text": [
      "{'alpha': np.int64(4), 'eta': np.float64(0.1), 'max_depth': np.int64(1)}\n",
      "              precision    recall  f1-score   support\n",
      "\n",
      "         0.0       0.00      0.00      0.00        99\n",
      "         1.0       0.54      0.66      0.60       152\n",
      "         2.0       0.52      0.72      0.61       159\n",
      "\n",
      "    accuracy                           0.53       410\n",
      "   macro avg       0.35      0.46      0.40       410\n",
      "weighted avg       0.40      0.53      0.46       410\n",
      "\n"
     ]
    }
   ],
   "source": [
    "xgboost_model = XGBClassifier(random_state=42)\n",
    "param_grid = {\n",
    "    'eta': np.arange(0, 1, 0.1), \n",
    "    'max_depth': np.arange(1, 10),\n",
    "    'alpha': np.arange(0, 10)\n",
    "}\n",
    "\n",
    "xgboost_clf = GridSearchCV(estimator=xgboost_model, param_grid=param_grid, scoring='accuracy', n_jobs=-1, cv=tscv)\n",
    "xgboost_clf.fit(train_X_scaled, train_Y)\n",
    "refined_xgboost_model = xgboost_clf.best_estimator_\n",
    "xgboost_preds = refined_xgboost_model.predict(test_X_scaled)\n",
    "print(xgboost_clf.best_params_)\n",
    "print(classification_report(test_Y, xgboost_preds, zero_division=0))"
   ]
  },
  {
   "cell_type": "code",
   "execution_count": 67,
   "id": "a7a67334",
   "metadata": {},
   "outputs": [
    {
     "ename": "IndentationError",
     "evalue": "unindent does not match any outer indentation level (<tokenize>, line 5)",
     "output_type": "error",
     "traceback": [
      "\u001b[0;36m  File \u001b[0;32m<tokenize>:5\u001b[0;36m\u001b[0m\n\u001b[0;31m    accuracy                           0.51       410\u001b[0m\n\u001b[0m    ^\u001b[0m\n\u001b[0;31mIndentationError\u001b[0m\u001b[0;31m:\u001b[0m unindent does not match any outer indentation level\n"
     ]
    }
   ],
   "source": [
    "0.0       0.33      0.03      0.06        99\n",
    "         1.0       0.53      0.62      0.57       152\n",
    "         2.0       0.50      0.70      0.58       159\n",
    "\n",
    "    accuracy                           0.51       410\n",
    "   macro avg       0.45      0.45      0.40       410\n",
    "weighted avg       0.47      0.51      0.45       410\n"
   ]
  },
  {
   "cell_type": "code",
   "execution_count": 68,
   "id": "9af88675",
   "metadata": {},
   "outputs": [
    {
     "name": "stdout",
     "output_type": "stream",
     "text": [
      "{'C': np.float64(0.2), 'kernel': 'sigmoid'}\n",
      "              precision    recall  f1-score   support\n",
      "\n",
      "         0.0       0.00      0.00      0.00        99\n",
      "         1.0       0.53      0.69      0.60       152\n",
      "         2.0       0.52      0.69      0.59       159\n",
      "\n",
      "    accuracy                           0.52       410\n",
      "   macro avg       0.35      0.46      0.40       410\n",
      "weighted avg       0.40      0.52      0.45       410\n",
      "\n"
     ]
    }
   ],
   "source": [
    "svc_model = SVC(random_state=42)\n",
    "param_grid = {\n",
    "    'C': np.arange(0.1, 1, 0.1), \n",
    "    'kernel': ['linear', 'poly', 'rbf', 'sigmoid']\n",
    "}\n",
    "\n",
    "svc_clf = GridSearchCV(estimator=svc_model, param_grid=param_grid, scoring='accuracy', n_jobs=-1, cv=tscv)\n",
    "svc_clf.fit(train_X_scaled, train_Y)\n",
    "refined_svc_model = svc_clf.best_estimator_\n",
    "svc_preds = refined_svc_model.predict(test_X_scaled)\n",
    "print(svc_clf.best_params_)\n",
    "print(classification_report(test_Y, svc_preds, zero_division=0))"
   ]
  },
  {
   "cell_type": "code",
   "execution_count": null,
   "id": "17823c8d",
   "metadata": {},
   "outputs": [],
   "source": [
    "0.0       1.00      0.01      0.02        99\n",
    "         1.0       0.54      0.66      0.60       152\n",
    "         2.0       0.50      0.70      0.59       159\n",
    "\n",
    "    accuracy                           0.52       410\n",
    "   macro avg       0.68      0.46      0.40       410\n",
    "weighted avg       0.64      0.52      0.45       410"
   ]
  },
  {
   "cell_type": "code",
   "execution_count": 69,
   "id": "a8df0be7",
   "metadata": {},
   "outputs": [
    {
     "name": "stdout",
     "output_type": "stream",
     "text": [
      "{'C': np.float64(0.2), 'solver': 'saga'}\n",
      "              precision    recall  f1-score   support\n",
      "\n",
      "         0.0       0.35      0.09      0.14        99\n",
      "         1.0       0.55      0.66      0.60       152\n",
      "         2.0       0.51      0.64      0.57       159\n",
      "\n",
      "    accuracy                           0.52       410\n",
      "   macro avg       0.47      0.47      0.44       410\n",
      "weighted avg       0.48      0.52      0.48       410\n",
      "\n"
     ]
    }
   ],
   "source": [
    "lr_model = LogisticRegression(random_state=42, max_iter=500000)\n",
    "param_grid = {\n",
    "    'C': np.arange(0.1, 1, 0.1), \n",
    "    'solver': ['saga', 'lbfgs', 'sag', 'newton-cg', 'newton-cholesky']\n",
    "}\n",
    "\n",
    "lr_clf = GridSearchCV(estimator=lr_model, param_grid=param_grid, scoring='accuracy', n_jobs=-1, cv=tscv)\n",
    "lr_clf.fit(train_X_scaled, train_Y)\n",
    "refined_lr_model = lr_clf.best_estimator_\n",
    "lr_preds = refined_lr_model.predict(test_X_scaled)\n",
    "print(lr_clf.best_params_)\n",
    "print(classification_report(test_Y, lr_preds, zero_division=0))"
   ]
  },
  {
   "cell_type": "code",
   "execution_count": null,
   "id": "6a1a8968",
   "metadata": {},
   "outputs": [],
   "source": [
    "0.0       0.50      0.05      0.09        99\n",
    "         1.0       0.53      0.63      0.58       152\n",
    "         2.0       0.51      0.70      0.59       159\n",
    "\n",
    "    accuracy                           0.52       410\n",
    "   macro avg       0.51      0.46      0.42       410\n",
    "weighted avg       0.52      0.52      0.47       410\n"
   ]
  },
  {
   "cell_type": "code",
   "execution_count": 70,
   "id": "155b8926",
   "metadata": {},
   "outputs": [
    {
     "name": "stdout",
     "output_type": "stream",
     "text": [
      "{'alpha': np.int64(2), 'eta': np.float64(0.6000000000000001), 'max_depth': np.int64(4)}\n",
      "              precision    recall  f1-score   support\n",
      "\n",
      "         0.0       0.21      0.08      0.12        99\n",
      "         1.0       0.54      0.61      0.57       152\n",
      "         2.0       0.50      0.64      0.56       159\n",
      "\n",
      "    accuracy                           0.49       410\n",
      "   macro avg       0.42      0.44      0.42       410\n",
      "weighted avg       0.45      0.49      0.46       410\n",
      "\n"
     ]
    }
   ],
   "source": [
    "normalized_sample_weights = compute_sample_weight('balanced', y=train_Y)\n",
    "param_grid = {\n",
    "    'eta': np.arange(0, 1, 0.1), \n",
    "    'max_depth': np.arange(1, 10),\n",
    "    'alpha': np.arange(0, 10)\n",
    "}\n",
    "\n",
    "xgboost_clf = GridSearchCV(estimator=xgboost_model, param_grid=param_grid, scoring='f1_macro', n_jobs=-1, cv=tscv)\n",
    "xgboost_clf.fit(train_X_scaled, train_Y, sample_weight = normalized_sample_weights)\n",
    "better_xgboost_model = xgboost_clf.best_estimator_\n",
    "better_xgboost_preds = better_xgboost_model.predict(test_X_scaled)\n",
    "print(xgboost_clf.best_params_)\n",
    "print(classification_report(test_Y, better_xgboost_preds, zero_division=0))"
   ]
  },
  {
   "cell_type": "code",
   "execution_count": null,
   "id": "420c975b",
   "metadata": {},
   "outputs": [],
   "source": [
    " 0.0       0.32      0.24      0.27        99\n",
    "         1.0       0.52      0.45      0.49       152\n",
    "         2.0       0.49      0.62      0.55       159\n",
    "\n",
    "    accuracy                           0.47       410\n",
    "   macro avg       0.44      0.44      0.44       410\n",
    "weighted avg       0.46      0.47      0.46       410"
   ]
  },
  {
   "cell_type": "code",
   "execution_count": 71,
   "id": "85919c1d",
   "metadata": {},
   "outputs": [
    {
     "name": "stdout",
     "output_type": "stream",
     "text": [
      "{'C': np.float64(0.1), 'kernel': 'linear'}\n",
      "              precision    recall  f1-score   support\n",
      "\n",
      "         0.0       0.27      0.30      0.28        99\n",
      "         1.0       0.55      0.55      0.55       152\n",
      "         2.0       0.49      0.45      0.47       159\n",
      "\n",
      "    accuracy                           0.45       410\n",
      "   macro avg       0.44      0.43      0.43       410\n",
      "weighted avg       0.46      0.45      0.45       410\n",
      "\n"
     ]
    }
   ],
   "source": [
    "param_grid = {\n",
    "    'C': np.arange(0.1, 1, 0.1), \n",
    "    'kernel': ['linear', 'poly', 'rbf', 'sigmoid']\n",
    "}\n",
    "\n",
    "svc_clf = GridSearchCV(estimator=svc_model, param_grid=param_grid, scoring='f1_macro', n_jobs=-1, cv=tscv)\n",
    "svc_clf.fit(train_X_scaled, train_Y, sample_weight = normalized_sample_weights)\n",
    "better_svc_model = svc_clf.best_estimator_\n",
    "better_svc_preds = better_svc_model.predict(test_X_scaled)\n",
    "print(svc_clf.best_params_)\n",
    "print(classification_report(test_Y, better_svc_preds, zero_division=0))"
   ]
  },
  {
   "cell_type": "markdown",
   "id": "b553bb61",
   "metadata": {},
   "source": [
    "0.0       0.27      0.22      0.24        99\n",
    "         1.0       0.53      0.52      0.52       152\n",
    "         2.0       0.50      0.57      0.53       159\n",
    "\n",
    "    accuracy                           0.47       410\n",
    "   macro avg       0.43      0.44      0.43       410\n",
    "weighted avg       0.46      0.47      0.46       410"
   ]
  },
  {
   "cell_type": "code",
   "execution_count": 72,
   "id": "bfd51b3b",
   "metadata": {},
   "outputs": [
    {
     "name": "stdout",
     "output_type": "stream",
     "text": [
      "              precision    recall  f1-score   support\n",
      "\n",
      "         0.0       0.19      0.19      0.19        99\n",
      "         1.0       0.59      0.56      0.58       152\n",
      "         2.0       0.51      0.53      0.52       159\n",
      "\n",
      "    accuracy                           0.46       410\n",
      "   macro avg       0.43      0.43      0.43       410\n",
      "weighted avg       0.46      0.46      0.46       410\n",
      "\n"
     ]
    }
   ],
   "source": [
    "param_grid = {\n",
    "    'C': np.arange(0.1, 1, 0.1), \n",
    "    'solver': ['saga', 'lbfgs', 'sag', 'newton-cg', 'newton-cholesky']\n",
    "}\n",
    "\n",
    "lr_clf = GridSearchCV(estimator=lr_model, param_grid=param_grid, scoring='accuracy', n_jobs=-1, cv=tscv)\n",
    "lr_clf.fit(train_X_scaled2, train_Y, sample_weight=normalized_sample_weights)\n",
    "better_lr_model = lr_clf.best_estimator_\n",
    "better_lr_preds = better_lr_model.predict(test_X_scaled2)\n",
    "print(classification_report(test_Y, better_lr_preds, zero_division=0))"
   ]
  },
  {
   "cell_type": "code",
   "execution_count": 73,
   "id": "58822cd4",
   "metadata": {},
   "outputs": [
    {
     "name": "stdout",
     "output_type": "stream",
     "text": [
      "{'max_depth': np.int64(7), 'min_samples_split': np.int64(3), 'n_estimators': np.int64(100)}\n",
      "              precision    recall  f1-score   support\n",
      "\n",
      "         0.0       0.08      0.01      0.02        99\n",
      "         1.0       0.54      0.62      0.58       152\n",
      "         2.0       0.50      0.70      0.59       159\n",
      "\n",
      "    accuracy                           0.51       410\n",
      "   macro avg       0.38      0.45      0.40       410\n",
      "weighted avg       0.42      0.51      0.45       410\n",
      "\n"
     ]
    }
   ],
   "source": [
    "rf_model = RandomForestClassifier(random_state=42)\n",
    "param_grid = {\n",
    "    'n_estimators': np.arange(100, 200, 5), \n",
    "    'min_samples_split': np.arange(2,10),\n",
    "    'max_depth': np.arange(2,10)\n",
    "}\n",
    "\n",
    "clf = GridSearchCV(estimator=rf_model, param_grid=param_grid, scoring='f1_macro', n_jobs=-1, cv=tscv)\n",
    "clf.fit(train_X_selected, train_Y, sample_weight = normalized_sample_weights)\n",
    "better_rf_model = clf.best_estimator_\n",
    "better_rf_preds = better_rf_model.predict(test_X_selected)\n",
    "print(clf.best_params_)\n",
    "print(classification_report(test_Y, better_rf_preds, zero_division=0))"
   ]
  },
  {
   "cell_type": "code",
   "execution_count": 75,
   "id": "665e7eeb",
   "metadata": {},
   "outputs": [
    {
     "name": "stdout",
     "output_type": "stream",
     "text": [
      "{'weights': (2, 1, 1)}\n",
      "              precision    recall  f1-score   support\n",
      "\n",
      "         0.0       0.33      0.12      0.18        99\n",
      "         1.0       0.52      0.64      0.57       152\n",
      "         2.0       0.51      0.60      0.55       159\n",
      "\n",
      "    accuracy                           0.50       410\n",
      "   macro avg       0.45      0.45      0.43       410\n",
      "weighted avg       0.47      0.50      0.47       410\n",
      "\n"
     ]
    }
   ],
   "source": [
    "normalized_sample_weights = compute_sample_weight('balanced', y=train_Y)\n",
    "base_estimators = [\n",
    "    ('rf', RandomForestClassifier(random_state=42, n_estimators=100, min_samples_split=3, max_depth=7)),\n",
    "    ('xgb', XGBClassifier(alpha=2, random_state=42, eta=0.6, max_depth=4)),\n",
    "    ('svc', SVC(random_state=42, C=0.9, kernel='rbf', probability=True))\n",
    "]\n",
    "\n",
    "\n",
    "voter = VotingClassifier(estimators=base_estimators, voting='soft')\n",
    "\n",
    "param_grid = {\n",
    "    'weights': [(w1, w2, w3) for w1 in range(1,5) for w2 in range(1,5) for w3 in range(1,5)]\n",
    "}\n",
    "\n",
    "voting_clf = GridSearchCV(estimator=voter, param_grid=param_grid, scoring='f1_macro', n_jobs=-1, cv=tscv)\n",
    "voting_clf.fit(train_X_scaled2, train_Y, sample_weight=normalized_sample_weights)\n",
    "refined_voting_model = voting_clf.best_estimator_\n",
    "voter_preds = refined_voting_model.predict(test_X_scaled2)\n",
    "print(voting_clf.best_params_)\n",
    "print(classification_report(test_Y, voter_preds, zero_division=0))"
   ]
  },
  {
   "cell_type": "markdown",
   "id": "9ea88d32",
   "metadata": {},
   "source": [
    "0.0       0.39      0.12      0.18        99\n",
    "         1.0       0.53      0.55      0.54       152\n",
    "         2.0       0.51      0.70      0.59       159\n",
    "\n",
    "    accuracy                           0.50       410\n",
    "   macro avg       0.47      0.46      0.44       410\n",
    "weighted avg       0.48      0.50      0.47       410"
   ]
  },
  {
   "cell_type": "code",
   "execution_count": 82,
   "id": "c09cc7d0",
   "metadata": {},
   "outputs": [
    {
     "data": {
      "image/png": "[encoded data removed]",
      "text/plain": [
       "<Figure size 640x480 with 2 Axes>"
      ]
     },
     "metadata": {},
     "output_type": "display_data"
    }
   ],
   "source": [
    "from sklearn.metrics import confusion_matrix, ConfusionMatrixDisplay\n",
    "import matplotlib.pyplot as plt\n",
    "\n",
    "# y_true = actual labels (0=loss, 1=draw, 2=win for example)\n",
    "# y_pred = model predictions\n",
    "\n",
    "cm = confusion_matrix(test_Y, voter_preds, labels=[0,1,2])\n",
    "\n",
    "disp = ConfusionMatrixDisplay(confusion_matrix=cm, display_labels=[\"Draw\", \"Loss\", \"Win\"])\n",
    "disp.plot(cmap=\"Blues\", values_format=\"d\")  # \"d\" for raw counts, \".2f\" for proportions\n",
    "plt.title(\"Confusion Matrix\")\n",
    "plt.show()\n"
   ]
  },
  {
   "cell_type": "code",
   "execution_count": 80,
   "id": "25b24b46",
   "metadata": {},
   "outputs": [
    {
     "name": "stdout",
     "output_type": "stream",
     "text": [
      "              precision    recall  f1-score   support\n",
      "\n",
      "         0.0       0.22      0.16      0.19        99\n",
      "         1.0       0.59      0.61      0.60       152\n",
      "         2.0       0.49      0.56      0.52       159\n",
      "\n",
      "    accuracy                           0.48       410\n",
      "   macro avg       0.44      0.44      0.44       410\n",
      "weighted avg       0.46      0.48      0.47       410\n",
      "\n"
     ]
    }
   ],
   "source": [
    "# generate OOF predictions\n",
    "def get_oof_predictions(model, X, y, cv):\n",
    "    n_classes = len(np.unique(y))\n",
    "    oof = np.zeros((len(X), n_classes))\n",
    "\n",
    "    for train_idx, valid_idx in cv.split(X):\n",
    "        X_tr, y_tr = X.iloc[train_idx], y.iloc[train_idx]\n",
    "        X_val = X.iloc[valid_idx]\n",
    "\n",
    "        model.fit(X_tr, y_tr)\n",
    "        oof[valid_idx] = model.predict_proba(X_val)\n",
    "\n",
    "    return oof\n",
    "\n",
    "# Generate OOF features on TRAIN\n",
    "oof_features = []\n",
    "for name, model in base_estimators:\n",
    "    oof_pred = get_oof_predictions(model, train_X_selected2, train_Y, tscv)\n",
    "    oof_features.append(oof_pred)\n",
    "oof_features.append(train_X_selected2.values)\n",
    "# Stack into meta-train\n",
    "X_meta_train = np.hstack(oof_features)\n",
    "\n",
    "# Train meta-learner\n",
    "meta = LogisticRegression(max_iter=2000, random_state=42)\n",
    "meta.fit(X_meta_train, train_Y, sample_weight=normalized_sample_weights)\n",
    "\n",
    "# Prepare TEST predictions\n",
    "test_features = []\n",
    "for name, model in base_estimators:\n",
    "    # refit on full train\n",
    "    model.fit(train_X_selected2, train_Y)\n",
    "    test_pred = model.predict_proba(test_X_selected2)\n",
    "    test_features.append(test_pred)\n",
    "test_features.append(test_X_selected2.values)\n",
    "\n",
    "X_meta_test = np.hstack(test_features)\n",
    "\n",
    "# Final stacked predictions\n",
    "final_pred = meta.predict(X_meta_test)\n",
    "final_pred_proba = meta.predict_proba(X_meta_test)\n",
    "print(classification_report(test_Y, final_pred, zero_division=0))"
   ]
  },
  {
   "cell_type": "markdown",
   "id": "325f34c9",
   "metadata": {},
   "source": [
    "0.0       0.20      0.16      0.18        99\n",
    "         1.0       0.52      0.56      0.54       152\n",
    "         2.0       0.54      0.57      0.55       159\n",
    "\n",
    "    accuracy                           0.47       410\n",
    "   macro avg       0.42      0.43      0.42       410\n",
    "weighted avg       0.45      0.47      0.46       410"
   ]
  },
  {
   "cell_type": "code",
   "execution_count": 83,
   "id": "145ac324",
   "metadata": {},
   "outputs": [
    {
     "data": {
      "image/png": "[encoded data removed]",
      "text/plain": [
       "<Figure size 640x480 with 2 Axes>"
      ]
     },
     "metadata": {},
     "output_type": "display_data"
    }
   ],
   "source": [
    "cm2 = confusion_matrix(test_Y, final_pred, labels=[0,1,2])\n",
    "\n",
    "disp2 = ConfusionMatrixDisplay(confusion_matrix=cm2, display_labels=[\"Draw\", \"Loss\", \"Win\"])\n",
    "disp2.plot(cmap=\"Blues\", values_format=\"d\")  # \"d\" for raw counts, \".2f\" for proportions\n",
    "plt.title(\"Confusion Matrix\")\n",
    "plt.show()"
   ]
  },
  {
   "cell_type": "markdown",
   "id": "92106460",
   "metadata": {},
   "source": [
    "## Predicting upcoming matches"
   ]
  },
  {
   "cell_type": "code",
   "execution_count": null,
   "id": "6b7e6b2d",
   "metadata": {},
   "outputs": [
    {
     "name": "stdout",
     "output_type": "stream",
     "text": [
      "                 Team  Team_position  Pred         Opponent  Opp_position\n",
      "2340      Bournemouth            7.0   Win         Brighton          11.0\n",
      "2341        Tottenham            4.0   Win         West Ham          16.0\n",
      "2342   Crystal Palace            8.0   Win       Sunderland           6.0\n",
      "2343          Everton            5.0   Win      Aston Villa          19.0\n",
      "2344          Arsenal            3.0   Win  Nott'ham Forest          10.0\n",
      "2346           Fulham           18.0   Win     Leeds United          12.0\n",
      "2350        Brentford           15.0  Loss          Chelsea           2.0\n",
      "2352    Newcastle Utd           17.0   Win           Wolves          20.0\n",
      "2356          Burnley           14.0  Loss        Liverpool           1.0\n",
      "2358  Manchester City           13.0  Draw   Manchester Utd           9.0\n"
     ]
    }
   ],
   "source": [
    "full_train_X = pd.concat([train_X_selected2, test_X_selected2])\n",
    "full_train_Y = pd.concat([train_Y, test_Y])\n",
    "normalized_sample_weights = compute_sample_weight('balanced', y=full_train_Y)\n",
    "\n",
    "\n",
    "refined_voting_model.fit(full_train_X, full_train_Y, sample_weight=normalized_sample_weights)\n",
    "voter_preds = refined_voting_model.predict(future_matches[features])\n",
    "result_mapping_dict = {'0': 'Draw', '1': 'Loss', '2': 'Win'}\n",
    "voter_preds = [result_mapping_dict.get(str(int(result))) for result in voter_preds]\n",
    "team_mapping_dict2 = {value: key for key, value in team_mapping_dict.items()}\n",
    "team_names = future_matches['Team_code'].map(team_mapping_dict2)\n",
    "opp_names = future_matches['Opp_code'].map(team_mapping_dict2)\n",
    "print(pd.DataFrame({'Team':team_names, 'Team_position': future_matches['Team_position'],\n",
    "                    'Pred':voter_preds, 'Opponent': opp_names,\n",
    "                    'Opp_position': future_matches['Opp_position']}))"
   ]
  }
 ],
 "metadata": {
  "kernelspec": {
   "display_name": "Python 3",
   "language": "python",
   "name": "python3"
  },
  "language_info": {
   "codemirror_mode": {
    "name": "ipython",
    "version": 3
   },
   "file_extension": ".py",
   "mimetype": "text/x-python",
   "name": "python",
   "nbconvert_exporter": "python",
   "pygments_lexer": "ipython3",
   "version": "3.10.12"
  }
 },
 "nbformat": 4,
 "nbformat_minor": 5
}
